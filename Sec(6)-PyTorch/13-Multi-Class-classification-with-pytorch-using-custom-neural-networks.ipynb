{
 "cells": [
  {
   "cell_type": "markdown",
   "metadata": {
    "id": "jDRCwqU3V-bL"
   },
   "source": [
    "# Multi Class classification with pytorch using custom neural networks\n",
    "![](https://drive.google.com/uc?id=1CIA-YaLW29zTSItVYvee81eyvjj6K1U_)"
   ]
  },
  {
   "cell_type": "code",
   "execution_count": null,
   "metadata": {
    "id": "mqViisefV-A_"
   },
   "outputs": [],
   "source": [
    "# Datset link\n",
    "# https://archive.ics.uci.edu/dataset/53/iris\n",
    "\n",
    "# We will use this dataset from sklearn\n",
    "# https://scikit-learn.org/dev/modules/generated/sklearn.datasets.load_iris.html#sklearn.datasets.load_iris"
   ]
  },
  {
   "cell_type": "code",
   "execution_count": 1,
   "metadata": {
    "executionInfo": {
     "elapsed": 8,
     "status": "ok",
     "timestamp": 1739200091725,
     "user": {
      "displayName": "nimoy",
      "userId": "12145814232676261569"
     },
     "user_tz": -330
    },
    "id": "l7CsSDXHWTJL"
   },
   "outputs": [],
   "source": [
    "import torch\n",
    "import torch.nn as nn\n",
    "import torch.optim as optim\n",
    "import pandas as pd\n",
    "import numpy as np\n",
    "from sklearn.datasets import load_iris\n",
    "from sklearn.model_selection import train_test_split\n",
    "from sklearn.preprocessing import StandardScaler, LabelEncoder"
   ]
  },
  {
   "cell_type": "code",
   "execution_count": 2,
   "metadata": {
    "executionInfo": {
     "elapsed": 10,
     "status": "ok",
     "timestamp": 1739200165395,
     "user": {
      "displayName": "nimoy",
      "userId": "12145814232676261569"
     },
     "user_tz": -330
    },
    "id": "MnTR30PGZ0Lk"
   },
   "outputs": [],
   "source": [
    "iris = load_iris()\n",
    "df = pd.DataFrame(iris.data, columns=iris.feature_names)\n",
    "df['target'] = iris.target"
   ]
  },
  {
   "cell_type": "code",
   "execution_count": 3,
   "metadata": {
    "colab": {
     "base_uri": "https://localhost:8080/",
     "height": 206
    },
    "executionInfo": {
     "elapsed": 77,
     "status": "ok",
     "timestamp": 1739200172742,
     "user": {
      "displayName": "nimoy",
      "userId": "12145814232676261569"
     },
     "user_tz": -330
    },
    "id": "nDq_dZu0aHT8",
    "outputId": "2b3ca1fa-469e-4d4e-f53e-894efd5034b1"
   },
   "outputs": [
    {
     "data": {
      "text/html": [
       "<div>\n",
       "<style scoped>\n",
       "    .dataframe tbody tr th:only-of-type {\n",
       "        vertical-align: middle;\n",
       "    }\n",
       "\n",
       "    .dataframe tbody tr th {\n",
       "        vertical-align: top;\n",
       "    }\n",
       "\n",
       "    .dataframe thead th {\n",
       "        text-align: right;\n",
       "    }\n",
       "</style>\n",
       "<table border=\"1\" class=\"dataframe\">\n",
       "  <thead>\n",
       "    <tr style=\"text-align: right;\">\n",
       "      <th></th>\n",
       "      <th>sepal length (cm)</th>\n",
       "      <th>sepal width (cm)</th>\n",
       "      <th>petal length (cm)</th>\n",
       "      <th>petal width (cm)</th>\n",
       "      <th>target</th>\n",
       "    </tr>\n",
       "  </thead>\n",
       "  <tbody>\n",
       "    <tr>\n",
       "      <th>0</th>\n",
       "      <td>5.1</td>\n",
       "      <td>3.5</td>\n",
       "      <td>1.4</td>\n",
       "      <td>0.2</td>\n",
       "      <td>0</td>\n",
       "    </tr>\n",
       "    <tr>\n",
       "      <th>1</th>\n",
       "      <td>4.9</td>\n",
       "      <td>3.0</td>\n",
       "      <td>1.4</td>\n",
       "      <td>0.2</td>\n",
       "      <td>0</td>\n",
       "    </tr>\n",
       "    <tr>\n",
       "      <th>2</th>\n",
       "      <td>4.7</td>\n",
       "      <td>3.2</td>\n",
       "      <td>1.3</td>\n",
       "      <td>0.2</td>\n",
       "      <td>0</td>\n",
       "    </tr>\n",
       "    <tr>\n",
       "      <th>3</th>\n",
       "      <td>4.6</td>\n",
       "      <td>3.1</td>\n",
       "      <td>1.5</td>\n",
       "      <td>0.2</td>\n",
       "      <td>0</td>\n",
       "    </tr>\n",
       "    <tr>\n",
       "      <th>4</th>\n",
       "      <td>5.0</td>\n",
       "      <td>3.6</td>\n",
       "      <td>1.4</td>\n",
       "      <td>0.2</td>\n",
       "      <td>0</td>\n",
       "    </tr>\n",
       "  </tbody>\n",
       "</table>\n",
       "</div>"
      ],
      "text/plain": [
       "   sepal length (cm)  sepal width (cm)  petal length (cm)  petal width (cm)  \\\n",
       "0                5.1               3.5                1.4               0.2   \n",
       "1                4.9               3.0                1.4               0.2   \n",
       "2                4.7               3.2                1.3               0.2   \n",
       "3                4.6               3.1                1.5               0.2   \n",
       "4                5.0               3.6                1.4               0.2   \n",
       "\n",
       "   target  \n",
       "0       0  \n",
       "1       0  \n",
       "2       0  \n",
       "3       0  \n",
       "4       0  "
      ]
     },
     "execution_count": 3,
     "metadata": {},
     "output_type": "execute_result"
    }
   ],
   "source": [
    "df.head()"
   ]
  },
  {
   "cell_type": "code",
   "execution_count": 4,
   "metadata": {
    "executionInfo": {
     "elapsed": 6,
     "status": "ok",
     "timestamp": 1739200272934,
     "user": {
      "displayName": "nimoy",
      "userId": "12145814232676261569"
     },
     "user_tz": -330
    },
    "id": "9utNM2kVaJGD"
   },
   "outputs": [],
   "source": [
    "train_df, test_df = train_test_split(df, test_size=0.2, random_state=42, stratify=df['target'])"
   ]
  },
  {
   "cell_type": "code",
   "execution_count": 5,
   "metadata": {
    "executionInfo": {
     "elapsed": 9,
     "status": "ok",
     "timestamp": 1739200629064,
     "user": {
      "displayName": "nimoy",
      "userId": "12145814232676261569"
     },
     "user_tz": -330
    },
    "id": "SKdWfVqGbDpx"
   },
   "outputs": [],
   "source": [
    "X_train, y_train = train_df.drop(columns=['target']), train_df['target']\n",
    "X_test, y_test = test_df.drop(columns=['target']), test_df['target']"
   ]
  },
  {
   "cell_type": "code",
   "execution_count": 6,
   "metadata": {
    "executionInfo": {
     "elapsed": 2,
     "status": "ok",
     "timestamp": 1739200714918,
     "user": {
      "displayName": "nimoy",
      "userId": "12145814232676261569"
     },
     "user_tz": -330
    },
    "id": "H10XqVmDb2RI"
   },
   "outputs": [],
   "source": [
    "scaler = StandardScaler()\n",
    "X_train = scaler.fit_transform(X_train)\n",
    "X_test = scaler.transform(X_test)"
   ]
  },
  {
   "cell_type": "code",
   "execution_count": 7,
   "metadata": {
    "executionInfo": {
     "elapsed": 1,
     "status": "ok",
     "timestamp": 1739200837486,
     "user": {
      "displayName": "nimoy",
      "userId": "12145814232676261569"
     },
     "user_tz": -330
    },
    "id": "SRBFaPducNeJ"
   },
   "outputs": [],
   "source": [
    "X_train_tensor = torch.tensor(X_train, dtype=torch.float32)\n",
    "X_test_tensor = torch.tensor(X_test, dtype=torch.float32)\n",
    "y_train_tensor = torch.tensor(y_train.values, dtype=torch.long)\n",
    "y_test_tensor = torch.tensor(y_test.values, dtype=torch.long)"
   ]
  },
  {
   "cell_type": "code",
   "execution_count": null,
   "metadata": {
    "executionInfo": {
     "elapsed": 9,
     "status": "ok",
     "timestamp": 1739201421721,
     "user": {
      "displayName": "nimoy",
      "userId": "12145814232676261569"
     },
     "user_tz": -330
    },
    "id": "qeM6q7Btcn8C"
   },
   "outputs": [],
   "source": [
    "class IrisClassifier(nn.Module):\n",
    "  def __init__(self, input_dim, hidden_dim,output_dim):\n",
    "    super(IrisClassifier, self).__init__()\n",
    "    self.network = nn.Sequential(\n",
    "        nn.Linear(input_dim,hidden_dim),\n",
    "        nn.ReLU(),\n",
    "        nn.Linear(hidden_dim,hidden_dim),\n",
    "        nn.ReLU(),\n",
    "        nn.Linear(hidden_dim,output_dim),\n",
    "        nn.Softmax()\n",
    "    )\n",
    "\n",
    "  def forward(self, x):\n",
    "    return self.network(x)\n"
   ]
  },
  {
   "cell_type": "code",
   "execution_count": 10,
   "metadata": {
    "executionInfo": {
     "elapsed": 31,
     "status": "ok",
     "timestamp": 1739201422114,
     "user": {
      "displayName": "nimoy",
      "userId": "12145814232676261569"
     },
     "user_tz": -330
    },
    "id": "fdct-Ee4cwtJ"
   },
   "outputs": [],
   "source": [
    "input_dim = X_train.shape[1]\n",
    "hidden_dim = 16\n",
    "output_dim = 3"
   ]
  },
  {
   "cell_type": "code",
   "execution_count": 11,
   "metadata": {
    "executionInfo": {
     "elapsed": 8,
     "status": "ok",
     "timestamp": 1739201422451,
     "user": {
      "displayName": "nimoy",
      "userId": "12145814232676261569"
     },
     "user_tz": -330
    },
    "id": "Kouc8f6Ydcb8"
   },
   "outputs": [],
   "source": [
    "model = IrisClassifier(input_dim, hidden_dim, output_dim)"
   ]
  },
  {
   "cell_type": "code",
   "execution_count": 12,
   "metadata": {
    "executionInfo": {
     "elapsed": 7,
     "status": "ok",
     "timestamp": 1739201422740,
     "user": {
      "displayName": "nimoy",
      "userId": "12145814232676261569"
     },
     "user_tz": -330
    },
    "id": "FjlhUMRtd0Ss"
   },
   "outputs": [],
   "source": [
    "criterion = nn.CrossEntropyLoss()\n",
    "optimizer = optim.Adam(model.parameters(), lr=0.01)"
   ]
  },
  {
   "cell_type": "code",
   "execution_count": 14,
   "metadata": {
    "colab": {
     "base_uri": "https://localhost:8080/"
    },
    "executionInfo": {
     "elapsed": 503,
     "status": "ok",
     "timestamp": 1739201423603,
     "user": {
      "displayName": "nimoy",
      "userId": "12145814232676261569"
     },
     "user_tz": -330
    },
    "id": "Nix3x6wRd-0k",
    "outputId": "aac82a2d-2701-42de-f051-d43fa892a208"
   },
   "outputs": [
    {
     "name": "stdout",
     "output_type": "stream",
     "text": [
      "Epoch [10/500], loss : 0.5989\n",
      "Epoch [20/500], loss : 0.5852\n",
      "Epoch [30/500], loss : 0.5791\n",
      "Epoch [40/500], loss : 0.5754\n",
      "Epoch [50/500], loss : 0.5718\n",
      "Epoch [60/500], loss : 0.5698\n",
      "Epoch [70/500], loss : 0.5683\n",
      "Epoch [80/500], loss : 0.5673\n",
      "Epoch [90/500], loss : 0.5662\n",
      "Epoch [100/500], loss : 0.5654\n",
      "Epoch [110/500], loss : 0.5646\n",
      "Epoch [120/500], loss : 0.5640\n",
      "Epoch [130/500], loss : 0.5634\n",
      "Epoch [140/500], loss : 0.5629\n",
      "Epoch [150/500], loss : 0.5625\n",
      "Epoch [160/500], loss : 0.5622\n",
      "Epoch [170/500], loss : 0.5619\n",
      "Epoch [180/500], loss : 0.5616\n",
      "Epoch [190/500], loss : 0.5614\n",
      "Epoch [200/500], loss : 0.5613\n",
      "Epoch [210/500], loss : 0.5611\n",
      "Epoch [220/500], loss : 0.5610\n",
      "Epoch [230/500], loss : 0.5609\n",
      "Epoch [240/500], loss : 0.5608\n",
      "Epoch [250/500], loss : 0.5607\n",
      "Epoch [260/500], loss : 0.5606\n",
      "Epoch [270/500], loss : 0.5605\n",
      "Epoch [280/500], loss : 0.5605\n",
      "Epoch [290/500], loss : 0.5604\n",
      "Epoch [300/500], loss : 0.5604\n",
      "Epoch [310/500], loss : 0.5603\n",
      "Epoch [320/500], loss : 0.5603\n",
      "Epoch [330/500], loss : 0.5603\n",
      "Epoch [340/500], loss : 0.5602\n",
      "Epoch [350/500], loss : 0.5602\n",
      "Epoch [360/500], loss : 0.5602\n",
      "Epoch [370/500], loss : 0.5601\n",
      "Epoch [380/500], loss : 0.5601\n",
      "Epoch [390/500], loss : 0.5601\n",
      "Epoch [400/500], loss : 0.5601\n",
      "Epoch [410/500], loss : 0.5601\n",
      "Epoch [420/500], loss : 0.5601\n",
      "Epoch [430/500], loss : 0.5600\n",
      "Epoch [440/500], loss : 0.5600\n",
      "Epoch [450/500], loss : 0.5600\n",
      "Epoch [460/500], loss : 0.5600\n",
      "Epoch [470/500], loss : 0.5600\n",
      "Epoch [480/500], loss : 0.5600\n",
      "Epoch [490/500], loss : 0.5600\n",
      "Epoch [500/500], loss : 0.5600\n"
     ]
    }
   ],
   "source": [
    "# Train the model\n",
    "\n",
    "epochs = 500\n",
    "for epoch in range(epochs):\n",
    "  model.train()             #to turn on dropout while training etc\n",
    "  optimizer.zero_grad()\n",
    "\n",
    "  predictions = model(X_train_tensor)\n",
    "  loss = criterion(predictions, y_train_tensor)\n",
    "\n",
    "  loss.backward()\n",
    "  optimizer.step()\n",
    "\n",
    "  if (epoch+1) % 10 == 0:\n",
    "    print(f\"Epoch [{epoch+1}/{epochs}], loss : {loss.item():.4f}\")"
   ]
  },
  {
   "cell_type": "code",
   "execution_count": 17,
   "metadata": {
    "colab": {
     "base_uri": "https://localhost:8080/"
    },
    "executionInfo": {
     "elapsed": 50,
     "status": "ok",
     "timestamp": 1739201639725,
     "user": {
      "displayName": "nimoy",
      "userId": "12145814232676261569"
     },
     "user_tz": -330
    },
    "id": "FZPqlU33ew0_",
    "outputId": "cf8d9af0-f72a-471d-c049-47ca7d24be89"
   },
   "outputs": [
    {
     "name": "stdout",
     "output_type": "stream",
     "text": [
      "tensor([[9.9999e-01, 8.9969e-06, 8.1430e-17],\n",
      "        [2.2225e-05, 1.3582e-02, 9.8640e-01],\n",
      "        [2.4923e-05, 9.9997e-01, 2.3196e-07],\n",
      "        [5.2006e-06, 9.9999e-01, 1.1775e-07],\n",
      "        [1.0000e+00, 4.3114e-06, 3.1115e-17],\n",
      "        [1.6610e-04, 9.9980e-01, 3.5391e-05],\n",
      "        [1.0000e+00, 7.8419e-07, 7.0681e-19],\n",
      "        [9.9997e-01, 3.4581e-05, 2.5768e-17],\n",
      "        [1.6435e-11, 1.1169e-10, 1.0000e+00],\n",
      "        [1.4706e-04, 9.9984e-01, 1.3617e-05],\n",
      "        [1.4077e-14, 2.3538e-13, 1.0000e+00],\n",
      "        [4.9096e-16, 5.5364e-17, 1.0000e+00],\n",
      "        [2.9134e-16, 8.0082e-17, 1.0000e+00],\n",
      "        [7.1663e-05, 9.9993e-01, 2.8952e-06],\n",
      "        [9.9999e-01, 6.4884e-06, 1.2124e-17],\n",
      "        [9.9999e-01, 7.5849e-06, 1.2263e-17],\n",
      "        [1.0000e+00, 2.5951e-06, 5.2309e-20],\n",
      "        [1.6611e-06, 1.0000e+00, 5.2954e-08],\n",
      "        [9.5329e-06, 9.9999e-01, 3.9115e-07],\n",
      "        [1.1891e-04, 1.1166e-01, 8.8822e-01],\n",
      "        [1.0000e+00, 3.9777e-06, 1.6705e-18],\n",
      "        [3.0439e-18, 9.1916e-20, 1.0000e+00],\n",
      "        [3.5743e-06, 1.0000e+00, 6.3132e-08],\n",
      "        [3.0581e-06, 9.9872e-01, 1.2742e-03],\n",
      "        [5.6014e-17, 2.5394e-17, 1.0000e+00],\n",
      "        [4.2432e-05, 1.1945e-01, 8.8050e-01],\n",
      "        [1.0740e-05, 9.9999e-01, 2.5337e-07],\n",
      "        [9.9998e-01, 2.0081e-05, 8.3565e-18],\n",
      "        [3.9669e-09, 3.2187e-07, 1.0000e+00],\n",
      "        [9.9999e-01, 7.6413e-06, 6.0131e-18]])\n",
      "Test accuracy : 0.9333\n"
     ]
    },
    {
     "name": "stderr",
     "output_type": "stream",
     "text": [
      "c:\\Users\\aman0\\anaconda3\\envs\\TorchLearnEnv\\Lib\\site-packages\\torch\\nn\\modules\\module.py:1751: UserWarning: Implicit dimension choice for softmax has been deprecated. Change the call to include dim=X as an argument.\n",
      "  return self._call_impl(*args, **kwargs)\n"
     ]
    }
   ],
   "source": [
    "model.eval()           #turn off dropout etc\n",
    "with torch.no_grad():     #to turn off auto grad as we are only doing prediction\n",
    "  y_pred = model(X_test_tensor)\n",
    "  print(y_pred)\n",
    "  y_pred_labels = torch.argmax(y_pred, dim=1)\n",
    "\n",
    "  accuracy = (y_pred_labels == y_test_tensor).sum().item() / y_test_tensor.size(0)\n",
    "  print(f\"Test accuracy : {accuracy:.4f}\")"
   ]
  },
  {
   "cell_type": "code",
   "execution_count": 37,
   "metadata": {
    "colab": {
     "base_uri": "https://localhost:8080/"
    },
    "executionInfo": {
     "elapsed": 3,
     "status": "ok",
     "timestamp": 1739201864503,
     "user": {
      "displayName": "nimoy",
      "userId": "12145814232676261569"
     },
     "user_tz": -330
    },
    "id": "8Cy5xDRfgl2I",
    "outputId": "0122f788-00ad-482d-854f-057c6d73664b"
   },
   "outputs": [
    {
     "data": {
      "text/plain": [
       "array(['setosa', 'versicolor', 'virginica'], dtype='<U10')"
      ]
     },
     "execution_count": 37,
     "metadata": {},
     "output_type": "execute_result"
    }
   ],
   "source": [
    "iris.target_names"
   ]
  },
  {
   "cell_type": "code",
   "execution_count": 18,
   "metadata": {
    "executionInfo": {
     "elapsed": 7,
     "status": "ok",
     "timestamp": 1739201891414,
     "user": {
      "displayName": "nimoy",
      "userId": "12145814232676261569"
     },
     "user_tz": -330
    },
    "id": "sdq_IERxfvPx"
   },
   "outputs": [],
   "source": [
    "def predict_iris(sepal_length, sepal_width, petal_length, petal_width):\n",
    "  input_data = np.array([[sepal_length, sepal_width, petal_length, petal_width]])\n",
    "  input_data = scaler.transform(input_data)\n",
    "  input_tesnor = torch.tensor(input_data, dtype = torch.float32)\n",
    "\n",
    "  model.eval()\n",
    "  with torch.no_grad():\n",
    "    prediction = model(input_tesnor)\n",
    "    predicted_class = torch.argmax(prediction, dim=1).item()\n",
    "  return iris.target_names[predicted_class]"
   ]
  },
  {
   "cell_type": "code",
   "execution_count": 19,
   "metadata": {
    "colab": {
     "base_uri": "https://localhost:8080/"
    },
    "executionInfo": {
     "elapsed": 13,
     "status": "ok",
     "timestamp": 1739201957514,
     "user": {
      "displayName": "nimoy",
      "userId": "12145814232676261569"
     },
     "user_tz": -330
    },
    "id": "Ug8Bj4-fgstj",
    "outputId": "32a7ec6e-d235-45d2-aa42-1b37a58766be"
   },
   "outputs": [
    {
     "name": "stdout",
     "output_type": "stream",
     "text": [
      "Predicted species : setosa\n"
     ]
    },
    {
     "name": "stderr",
     "output_type": "stream",
     "text": [
      "c:\\Users\\aman0\\anaconda3\\envs\\TorchLearnEnv\\Lib\\site-packages\\sklearn\\utils\\validation.py:2749: UserWarning: X does not have valid feature names, but StandardScaler was fitted with feature names\n",
      "  warnings.warn(\n",
      "c:\\Users\\aman0\\anaconda3\\envs\\TorchLearnEnv\\Lib\\site-packages\\torch\\nn\\modules\\module.py:1751: UserWarning: Implicit dimension choice for softmax has been deprecated. Change the call to include dim=X as an argument.\n",
      "  return self._call_impl(*args, **kwargs)\n"
     ]
    }
   ],
   "source": [
    "predicted_class = predict_iris(5.1, 3.5, 1.4, 0.2)\n",
    "print(f\"Predicted species : {predicted_class}\")"
   ]
  },
  {
   "cell_type": "code",
   "execution_count": null,
   "metadata": {
    "id": "9LMweA4-g81r"
   },
   "outputs": [],
   "source": []
  }
 ],
 "metadata": {
  "accelerator": "GPU",
  "colab": {
   "authorship_tag": "ABX9TyO1i1sQDPH5NOkRjgCn8gsB",
   "gpuType": "T4",
   "provenance": []
  },
  "kernelspec": {
   "display_name": "TorchLearnEnv",
   "language": "python",
   "name": "python3"
  },
  "language_info": {
   "codemirror_mode": {
    "name": "ipython",
    "version": 3
   },
   "file_extension": ".py",
   "mimetype": "text/x-python",
   "name": "python",
   "nbconvert_exporter": "python",
   "pygments_lexer": "ipython3",
   "version": "3.13.5"
  }
 },
 "nbformat": 4,
 "nbformat_minor": 0
}
