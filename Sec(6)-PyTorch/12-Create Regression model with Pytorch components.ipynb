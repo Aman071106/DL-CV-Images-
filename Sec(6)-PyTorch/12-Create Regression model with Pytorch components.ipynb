{
 "cells": [
  {
   "cell_type": "markdown",
   "metadata": {
    "id": "ROr2IyOOQHs-"
   },
   "source": [
    "# Create Linear Regression model with Pytorch components\n",
    "![](https://drive.google.com/uc?id=1K99pcqE9fbl6QL0UADlC27S_sstwJvPH)"
   ]
  },
  {
   "cell_type": "code",
   "execution_count": 1,
   "metadata": {
    "id": "4bROVwEqQEso"
   },
   "outputs": [],
   "source": [
    "# 1. Data gathering\n",
    "# 2. Data preprocessing\n",
    "# 3. Feature engineering\n",
    "# 4. Model training\n",
    "# 5. Testing"
   ]
  },
  {
   "cell_type": "code",
   "execution_count": 2,
   "metadata": {
    "id": "AYborRqCTkXH"
   },
   "outputs": [],
   "source": [
    "## Dataset used\n",
    "# https://www.kaggle.com/datasets/mirichoi0218/insurance"
   ]
  },
  {
   "cell_type": "code",
   "execution_count": 3,
   "metadata": {
    "colab": {
     "base_uri": "https://localhost:8080/"
    },
    "executionInfo": {
     "elapsed": 3226,
     "status": "ok",
     "timestamp": 1738863057054,
     "user": {
      "displayName": "nimoy",
      "userId": "12145814232676261569"
     },
     "user_tz": -330
    },
    "id": "TZDAMIjYUGvv",
    "outputId": "b9c62387-b9b8-4e4e-c9c2-567c56927085"
   },
   "outputs": [
    {
     "name": "stdout",
     "output_type": "stream",
     "text": [
      "Requirement already satisfied: kaggle in c:\\users\\aman0\\anaconda3\\envs\\torchlearnenv\\lib\\site-packages (1.7.4.5)\n",
      "Requirement already satisfied: bleach in c:\\users\\aman0\\anaconda3\\envs\\torchlearnenv\\lib\\site-packages (from kaggle) (6.2.0)\n",
      "Requirement already satisfied: certifi>=14.05.14 in c:\\users\\aman0\\anaconda3\\envs\\torchlearnenv\\lib\\site-packages (from kaggle) (2025.6.15)\n",
      "Requirement already satisfied: charset-normalizer in c:\\users\\aman0\\anaconda3\\envs\\torchlearnenv\\lib\\site-packages (from kaggle) (3.4.2)\n",
      "Requirement already satisfied: idna in c:\\users\\aman0\\anaconda3\\envs\\torchlearnenv\\lib\\site-packages (from kaggle) (3.10)\n",
      "Requirement already satisfied: protobuf in c:\\users\\aman0\\anaconda3\\envs\\torchlearnenv\\lib\\site-packages (from kaggle) (6.31.1)\n",
      "Requirement already satisfied: python-dateutil>=2.5.3 in c:\\users\\aman0\\anaconda3\\envs\\torchlearnenv\\lib\\site-packages (from kaggle) (2.9.0.post0)\n",
      "Requirement already satisfied: python-slugify in c:\\users\\aman0\\anaconda3\\envs\\torchlearnenv\\lib\\site-packages (from kaggle) (8.0.4)\n",
      "Requirement already satisfied: requests in c:\\users\\aman0\\anaconda3\\envs\\torchlearnenv\\lib\\site-packages (from kaggle) (2.32.4)\n",
      "Requirement already satisfied: setuptools>=21.0.0 in c:\\users\\aman0\\anaconda3\\envs\\torchlearnenv\\lib\\site-packages (from kaggle) (78.1.1)\n",
      "Requirement already satisfied: six>=1.10 in c:\\users\\aman0\\anaconda3\\envs\\torchlearnenv\\lib\\site-packages (from kaggle) (1.17.0)\n",
      "Requirement already satisfied: text-unidecode in c:\\users\\aman0\\anaconda3\\envs\\torchlearnenv\\lib\\site-packages (from kaggle) (1.3)\n",
      "Requirement already satisfied: tqdm in c:\\users\\aman0\\anaconda3\\envs\\torchlearnenv\\lib\\site-packages (from kaggle) (4.67.1)\n",
      "Requirement already satisfied: urllib3>=1.15.1 in c:\\users\\aman0\\anaconda3\\envs\\torchlearnenv\\lib\\site-packages (from kaggle) (2.5.0)\n",
      "Requirement already satisfied: webencodings in c:\\users\\aman0\\anaconda3\\envs\\torchlearnenv\\lib\\site-packages (from kaggle) (0.5.1)\n",
      "Requirement already satisfied: colorama in c:\\users\\aman0\\anaconda3\\envs\\torchlearnenv\\lib\\site-packages (from tqdm->kaggle) (0.4.6)\n"
     ]
    }
   ],
   "source": [
    "!pip install kaggle"
   ]
  },
  {
   "cell_type": "code",
   "execution_count": 4,
   "metadata": {},
   "outputs": [
    {
     "name": "stdout",
     "output_type": "stream",
     "text": [
      "Requirement already satisfied: kagglehub in c:\\users\\aman0\\anaconda3\\envs\\torchlearnenv\\lib\\site-packages (0.3.12)\n",
      "Requirement already satisfied: packaging in c:\\users\\aman0\\anaconda3\\envs\\torchlearnenv\\lib\\site-packages (from kagglehub) (25.0)\n",
      "Requirement already satisfied: pyyaml in c:\\users\\aman0\\anaconda3\\envs\\torchlearnenv\\lib\\site-packages (from kagglehub) (6.0.2)\n",
      "Requirement already satisfied: requests in c:\\users\\aman0\\anaconda3\\envs\\torchlearnenv\\lib\\site-packages (from kagglehub) (2.32.4)\n",
      "Requirement already satisfied: tqdm in c:\\users\\aman0\\anaconda3\\envs\\torchlearnenv\\lib\\site-packages (from kagglehub) (4.67.1)\n",
      "Requirement already satisfied: charset_normalizer<4,>=2 in c:\\users\\aman0\\anaconda3\\envs\\torchlearnenv\\lib\\site-packages (from requests->kagglehub) (3.4.2)\n",
      "Requirement already satisfied: idna<4,>=2.5 in c:\\users\\aman0\\anaconda3\\envs\\torchlearnenv\\lib\\site-packages (from requests->kagglehub) (3.10)\n",
      "Requirement already satisfied: urllib3<3,>=1.21.1 in c:\\users\\aman0\\anaconda3\\envs\\torchlearnenv\\lib\\site-packages (from requests->kagglehub) (2.5.0)\n",
      "Requirement already satisfied: certifi>=2017.4.17 in c:\\users\\aman0\\anaconda3\\envs\\torchlearnenv\\lib\\site-packages (from requests->kagglehub) (2025.6.15)\n",
      "Requirement already satisfied: colorama in c:\\users\\aman0\\anaconda3\\envs\\torchlearnenv\\lib\\site-packages (from tqdm->kagglehub) (0.4.6)\n"
     ]
    }
   ],
   "source": [
    "!pip install kagglehub"
   ]
  },
  {
   "cell_type": "code",
   "execution_count": 5,
   "metadata": {
    "colab": {
     "base_uri": "https://localhost:8080/"
    },
    "executionInfo": {
     "elapsed": 4509,
     "status": "ok",
     "timestamp": 1738863144861,
     "user": {
      "displayName": "nimoy",
      "userId": "12145814232676261569"
     },
     "user_tz": -330
    },
    "id": "VBOKERsxUIkj",
    "outputId": "e8e5a4bf-2d4f-4e64-8864-b957d3fc908f"
   },
   "outputs": [
    {
     "name": "stderr",
     "output_type": "stream",
     "text": [
      "c:\\Users\\aman0\\anaconda3\\envs\\TorchLearnEnv\\Lib\\site-packages\\tqdm\\auto.py:21: TqdmWarning: IProgress not found. Please update jupyter and ipywidgets. See https://ipywidgets.readthedocs.io/en/stable/user_install.html\n",
      "  from .autonotebook import tqdm as notebook_tqdm\n"
     ]
    },
    {
     "name": "stdout",
     "output_type": "stream",
     "text": [
      "Path of dataset files : C:\\Users\\aman0\\.cache\\kagglehub\\datasets\\mirichoi0218\\insurance\\versions\\1\n"
     ]
    }
   ],
   "source": [
    "import kagglehub\n",
    "\n",
    "# Download latest version\n",
    "path = kagglehub.dataset_download(\"mirichoi0218/insurance\")\n",
    "\n",
    "print(f\"Path of dataset files : {path}\")"
   ]
  },
  {
   "cell_type": "code",
   "execution_count": 6,
   "metadata": {
    "colab": {
     "base_uri": "https://localhost:8080/"
    },
    "executionInfo": {
     "elapsed": 358,
     "status": "ok",
     "timestamp": 1738863204471,
     "user": {
      "displayName": "nimoy",
      "userId": "12145814232676261569"
     },
     "user_tz": -330
    },
    "id": "evop15tuUcw0",
    "outputId": "50884284-ba89-4f70-b852-d65ce93dc2c2"
   },
   "outputs": [
    {
     "name": "stdout",
     "output_type": "stream",
     "text": [
      "c:\\Users\\aman0\\OneDrive\\Desktop\\Skills\\DL(Images)\\Sec(6)-PyTorch\n"
     ]
    }
   ],
   "source": [
    "import os\n",
    "print(os.getcwd())"
   ]
  },
  {
   "cell_type": "code",
   "execution_count": 7,
   "metadata": {
    "executionInfo": {
     "elapsed": 355,
     "status": "ok",
     "timestamp": 1738863256785,
     "user": {
      "displayName": "nimoy",
      "userId": "12145814232676261569"
     },
     "user_tz": -330
    },
    "id": "OEQIbhC0UtJM"
   },
   "outputs": [],
   "source": [
    "import pandas as pd"
   ]
  },
  {
   "cell_type": "code",
   "execution_count": 8,
   "metadata": {
    "colab": {
     "base_uri": "https://localhost:8080/"
    },
    "executionInfo": {
     "elapsed": 381,
     "status": "ok",
     "timestamp": 1738863271937,
     "user": {
      "displayName": "nimoy",
      "userId": "12145814232676261569"
     },
     "user_tz": -330
    },
    "id": "vU33vOVkU6A9",
    "outputId": "d59414fc-2c78-4f66-a842-cd15d580dce2"
   },
   "outputs": [
    {
     "data": {
      "text/plain": [
       "['insurance.csv']"
      ]
     },
     "execution_count": 8,
     "metadata": {},
     "output_type": "execute_result"
    }
   ],
   "source": [
    "os.listdir('C:/Users/aman0/.cache/kagglehub/datasets/mirichoi0218/insurance/versions/1')"
   ]
  },
  {
   "cell_type": "code",
   "execution_count": 9,
   "metadata": {
    "executionInfo": {
     "elapsed": 329,
     "status": "ok",
     "timestamp": 1738863317768,
     "user": {
      "displayName": "nimoy",
      "userId": "12145814232676261569"
     },
     "user_tz": -330
    },
    "id": "834_d5i4U9w8"
   },
   "outputs": [],
   "source": [
    "df = pd.read_csv(os.path.join(path, 'insurance.csv'))"
   ]
  },
  {
   "cell_type": "code",
   "execution_count": 10,
   "metadata": {
    "colab": {
     "base_uri": "https://localhost:8080/",
     "height": 206
    },
    "executionInfo": {
     "elapsed": 348,
     "status": "ok",
     "timestamp": 1738863323304,
     "user": {
      "displayName": "nimoy",
      "userId": "12145814232676261569"
     },
     "user_tz": -330
    },
    "id": "WS5SY_ClVI9t",
    "outputId": "f27956eb-69a0-478e-fe46-d4f71b8df6f9"
   },
   "outputs": [
    {
     "data": {
      "text/html": [
       "<div>\n",
       "<style scoped>\n",
       "    .dataframe tbody tr th:only-of-type {\n",
       "        vertical-align: middle;\n",
       "    }\n",
       "\n",
       "    .dataframe tbody tr th {\n",
       "        vertical-align: top;\n",
       "    }\n",
       "\n",
       "    .dataframe thead th {\n",
       "        text-align: right;\n",
       "    }\n",
       "</style>\n",
       "<table border=\"1\" class=\"dataframe\">\n",
       "  <thead>\n",
       "    <tr style=\"text-align: right;\">\n",
       "      <th></th>\n",
       "      <th>age</th>\n",
       "      <th>sex</th>\n",
       "      <th>bmi</th>\n",
       "      <th>children</th>\n",
       "      <th>smoker</th>\n",
       "      <th>region</th>\n",
       "      <th>charges</th>\n",
       "    </tr>\n",
       "  </thead>\n",
       "  <tbody>\n",
       "    <tr>\n",
       "      <th>0</th>\n",
       "      <td>19</td>\n",
       "      <td>female</td>\n",
       "      <td>27.900</td>\n",
       "      <td>0</td>\n",
       "      <td>yes</td>\n",
       "      <td>southwest</td>\n",
       "      <td>16884.92400</td>\n",
       "    </tr>\n",
       "    <tr>\n",
       "      <th>1</th>\n",
       "      <td>18</td>\n",
       "      <td>male</td>\n",
       "      <td>33.770</td>\n",
       "      <td>1</td>\n",
       "      <td>no</td>\n",
       "      <td>southeast</td>\n",
       "      <td>1725.55230</td>\n",
       "    </tr>\n",
       "    <tr>\n",
       "      <th>2</th>\n",
       "      <td>28</td>\n",
       "      <td>male</td>\n",
       "      <td>33.000</td>\n",
       "      <td>3</td>\n",
       "      <td>no</td>\n",
       "      <td>southeast</td>\n",
       "      <td>4449.46200</td>\n",
       "    </tr>\n",
       "    <tr>\n",
       "      <th>3</th>\n",
       "      <td>33</td>\n",
       "      <td>male</td>\n",
       "      <td>22.705</td>\n",
       "      <td>0</td>\n",
       "      <td>no</td>\n",
       "      <td>northwest</td>\n",
       "      <td>21984.47061</td>\n",
       "    </tr>\n",
       "    <tr>\n",
       "      <th>4</th>\n",
       "      <td>32</td>\n",
       "      <td>male</td>\n",
       "      <td>28.880</td>\n",
       "      <td>0</td>\n",
       "      <td>no</td>\n",
       "      <td>northwest</td>\n",
       "      <td>3866.85520</td>\n",
       "    </tr>\n",
       "  </tbody>\n",
       "</table>\n",
       "</div>"
      ],
      "text/plain": [
       "   age     sex     bmi  children smoker     region      charges\n",
       "0   19  female  27.900         0    yes  southwest  16884.92400\n",
       "1   18    male  33.770         1     no  southeast   1725.55230\n",
       "2   28    male  33.000         3     no  southeast   4449.46200\n",
       "3   33    male  22.705         0     no  northwest  21984.47061\n",
       "4   32    male  28.880         0     no  northwest   3866.85520"
      ]
     },
     "execution_count": 10,
     "metadata": {},
     "output_type": "execute_result"
    }
   ],
   "source": [
    "df.head()"
   ]
  },
  {
   "cell_type": "code",
   "execution_count": 11,
   "metadata": {
    "colab": {
     "base_uri": "https://localhost:8080/"
    },
    "executionInfo": {
     "elapsed": 353,
     "status": "ok",
     "timestamp": 1738863347121,
     "user": {
      "displayName": "nimoy",
      "userId": "12145814232676261569"
     },
     "user_tz": -330
    },
    "id": "JVU2b3D-VKUM",
    "outputId": "eef7badf-b249-4935-de44-c0d3b84aee31"
   },
   "outputs": [
    {
     "name": "stdout",
     "output_type": "stream",
     "text": [
      "<class 'pandas.core.frame.DataFrame'>\n",
      "RangeIndex: 1338 entries, 0 to 1337\n",
      "Data columns (total 7 columns):\n",
      " #   Column    Non-Null Count  Dtype  \n",
      "---  ------    --------------  -----  \n",
      " 0   age       1338 non-null   int64  \n",
      " 1   sex       1338 non-null   object \n",
      " 2   bmi       1338 non-null   float64\n",
      " 3   children  1338 non-null   int64  \n",
      " 4   smoker    1338 non-null   object \n",
      " 5   region    1338 non-null   object \n",
      " 6   charges   1338 non-null   float64\n",
      "dtypes: float64(2), int64(2), object(3)\n",
      "memory usage: 73.3+ KB\n"
     ]
    }
   ],
   "source": [
    "df.info()"
   ]
  },
  {
   "cell_type": "code",
   "execution_count": 12,
   "metadata": {
    "colab": {
     "base_uri": "https://localhost:8080/",
     "height": 300
    },
    "executionInfo": {
     "elapsed": 412,
     "status": "ok",
     "timestamp": 1738863387752,
     "user": {
      "displayName": "nimoy",
      "userId": "12145814232676261569"
     },
     "user_tz": -330
    },
    "id": "k0PJGGjfVQH9",
    "outputId": "d5f749f7-1c31-4feb-8f38-dd051e98dbb1"
   },
   "outputs": [
    {
     "data": {
      "text/html": [
       "<div>\n",
       "<style scoped>\n",
       "    .dataframe tbody tr th:only-of-type {\n",
       "        vertical-align: middle;\n",
       "    }\n",
       "\n",
       "    .dataframe tbody tr th {\n",
       "        vertical-align: top;\n",
       "    }\n",
       "\n",
       "    .dataframe thead th {\n",
       "        text-align: right;\n",
       "    }\n",
       "</style>\n",
       "<table border=\"1\" class=\"dataframe\">\n",
       "  <thead>\n",
       "    <tr style=\"text-align: right;\">\n",
       "      <th></th>\n",
       "      <th>age</th>\n",
       "      <th>bmi</th>\n",
       "      <th>children</th>\n",
       "      <th>charges</th>\n",
       "    </tr>\n",
       "  </thead>\n",
       "  <tbody>\n",
       "    <tr>\n",
       "      <th>count</th>\n",
       "      <td>1338.000000</td>\n",
       "      <td>1338.000000</td>\n",
       "      <td>1338.000000</td>\n",
       "      <td>1338.000000</td>\n",
       "    </tr>\n",
       "    <tr>\n",
       "      <th>mean</th>\n",
       "      <td>39.207025</td>\n",
       "      <td>30.663397</td>\n",
       "      <td>1.094918</td>\n",
       "      <td>13270.422265</td>\n",
       "    </tr>\n",
       "    <tr>\n",
       "      <th>std</th>\n",
       "      <td>14.049960</td>\n",
       "      <td>6.098187</td>\n",
       "      <td>1.205493</td>\n",
       "      <td>12110.011237</td>\n",
       "    </tr>\n",
       "    <tr>\n",
       "      <th>min</th>\n",
       "      <td>18.000000</td>\n",
       "      <td>15.960000</td>\n",
       "      <td>0.000000</td>\n",
       "      <td>1121.873900</td>\n",
       "    </tr>\n",
       "    <tr>\n",
       "      <th>25%</th>\n",
       "      <td>27.000000</td>\n",
       "      <td>26.296250</td>\n",
       "      <td>0.000000</td>\n",
       "      <td>4740.287150</td>\n",
       "    </tr>\n",
       "    <tr>\n",
       "      <th>50%</th>\n",
       "      <td>39.000000</td>\n",
       "      <td>30.400000</td>\n",
       "      <td>1.000000</td>\n",
       "      <td>9382.033000</td>\n",
       "    </tr>\n",
       "    <tr>\n",
       "      <th>75%</th>\n",
       "      <td>51.000000</td>\n",
       "      <td>34.693750</td>\n",
       "      <td>2.000000</td>\n",
       "      <td>16639.912515</td>\n",
       "    </tr>\n",
       "    <tr>\n",
       "      <th>max</th>\n",
       "      <td>64.000000</td>\n",
       "      <td>53.130000</td>\n",
       "      <td>5.000000</td>\n",
       "      <td>63770.428010</td>\n",
       "    </tr>\n",
       "  </tbody>\n",
       "</table>\n",
       "</div>"
      ],
      "text/plain": [
       "               age          bmi     children       charges\n",
       "count  1338.000000  1338.000000  1338.000000   1338.000000\n",
       "mean     39.207025    30.663397     1.094918  13270.422265\n",
       "std      14.049960     6.098187     1.205493  12110.011237\n",
       "min      18.000000    15.960000     0.000000   1121.873900\n",
       "25%      27.000000    26.296250     0.000000   4740.287150\n",
       "50%      39.000000    30.400000     1.000000   9382.033000\n",
       "75%      51.000000    34.693750     2.000000  16639.912515\n",
       "max      64.000000    53.130000     5.000000  63770.428010"
      ]
     },
     "execution_count": 12,
     "metadata": {},
     "output_type": "execute_result"
    }
   ],
   "source": [
    "df.describe()"
   ]
  },
  {
   "cell_type": "code",
   "execution_count": 13,
   "metadata": {},
   "outputs": [
    {
     "name": "stdout",
     "output_type": "stream",
     "text": [
      "Requirement already satisfied: scikit-learn in c:\\users\\aman0\\anaconda3\\envs\\torchlearnenv\\lib\\site-packages (1.7.0)\n",
      "Requirement already satisfied: numpy>=1.22.0 in c:\\users\\aman0\\anaconda3\\envs\\torchlearnenv\\lib\\site-packages (from scikit-learn) (2.3.1)\n",
      "Requirement already satisfied: scipy>=1.8.0 in c:\\users\\aman0\\anaconda3\\envs\\torchlearnenv\\lib\\site-packages (from scikit-learn) (1.16.0)\n",
      "Requirement already satisfied: joblib>=1.2.0 in c:\\users\\aman0\\anaconda3\\envs\\torchlearnenv\\lib\\site-packages (from scikit-learn) (1.5.1)\n",
      "Requirement already satisfied: threadpoolctl>=3.1.0 in c:\\users\\aman0\\anaconda3\\envs\\torchlearnenv\\lib\\site-packages (from scikit-learn) (3.6.0)\n"
     ]
    }
   ],
   "source": [
    "!pip install scikit-learn"
   ]
  },
  {
   "cell_type": "code",
   "execution_count": 14,
   "metadata": {
    "executionInfo": {
     "elapsed": 396,
     "status": "ok",
     "timestamp": 1738863541346,
     "user": {
      "displayName": "nimoy",
      "userId": "12145814232676261569"
     },
     "user_tz": -330
    },
    "id": "LOYnfUZHVaA9"
   },
   "outputs": [],
   "source": [
    "import torch\n",
    "import torch.nn as nn\n",
    "import torch.optim as optim\n",
    "from sklearn.preprocessing import LabelEncoder, StandardScaler\n",
    "from sklearn.model_selection import train_test_split\n"
   ]
  },
  {
   "cell_type": "code",
   "execution_count": 15,
   "metadata": {
    "executionInfo": {
     "elapsed": 410,
     "status": "ok",
     "timestamp": 1738863703750,
     "user": {
      "displayName": "nimoy",
      "userId": "12145814232676261569"
     },
     "user_tz": -330
    },
    "id": "6EC3f-vLV_hP"
   },
   "outputs": [],
   "source": [
    "# Split dataset before encoding\n",
    "train_df, test_df = train_test_split(df, test_size=0.2, random_state=42)\n"
   ]
  },
  {
   "cell_type": "code",
   "execution_count": 16,
   "metadata": {},
   "outputs": [
    {
     "name": "stdout",
     "output_type": "stream",
     "text": [
      "['female' 'male']\n",
      "['yes' 'no']\n",
      "['southwest' 'southeast' 'northwest' 'northeast']\n"
     ]
    }
   ],
   "source": [
    "for col in df.select_dtypes(include='object').columns :\n",
    "    print(df[col].unique())"
   ]
  },
  {
   "cell_type": "code",
   "execution_count": 17,
   "metadata": {
    "executionInfo": {
     "elapsed": 429,
     "status": "ok",
     "timestamp": 1738863892573,
     "user": {
      "displayName": "nimoy",
      "userId": "12145814232676261569"
     },
     "user_tz": -330
    },
    "id": "zPCfok7SWnJg"
   },
   "outputs": [],
   "source": [
    "# Encode cetagorical variable\n",
    "label_encoder = {}\n",
    "for col in ['sex', 'smoker', 'region']:\n",
    "  le = LabelEncoder()\n",
    "  train_df[col] = le.fit_transform(train_df[col])\n",
    "  test_df[col] = le.transform(test_df[col])\n",
    "  label_encoder[col] = le\n",
    "\n"
   ]
  },
  {
   "cell_type": "code",
   "execution_count": 18,
   "metadata": {
    "executionInfo": {
     "elapsed": 389,
     "status": "ok",
     "timestamp": 1738864096960,
     "user": {
      "displayName": "nimoy",
      "userId": "12145814232676261569"
     },
     "user_tz": -330
    },
    "id": "UaXAexm_XVRh"
   },
   "outputs": [],
   "source": [
    "# Features and target\n",
    "X_train = train_df.drop(columns=['charges'])\n",
    "y_train = train_df['charges']\n",
    "\n",
    "X_test = test_df.drop(columns=['charges'])\n",
    "y_test = test_df['charges']"
   ]
  },
  {
   "cell_type": "code",
   "execution_count": 19,
   "metadata": {
    "colab": {
     "base_uri": "https://localhost:8080/"
    },
    "executionInfo": {
     "elapsed": 481,
     "status": "ok",
     "timestamp": 1738864131201,
     "user": {
      "displayName": "nimoy",
      "userId": "12145814232676261569"
     },
     "user_tz": -330
    },
    "id": "zPU28WsHYHLb",
    "outputId": "af3b453c-4b5d-41b8-a5c8-bc590b33283a"
   },
   "outputs": [
    {
     "name": "stdout",
     "output_type": "stream",
     "text": [
      "      age  sex    bmi  children  smoker  region\n",
      "560    46    0  19.95         2       0       1\n",
      "1285   47    0  24.32         0       0       0\n",
      "1142   52    0  24.86         0       0       2\n",
      "969    39    0  34.32         5       0       2\n",
      "486    54    0  21.47         3       0       1\n",
      "560      9193.83850\n",
      "1285     8534.67180\n",
      "1142    27117.99378\n",
      "969      8596.82780\n",
      "486     12475.35130\n",
      "Name: charges, dtype: float64\n"
     ]
    }
   ],
   "source": [
    "print(X_train.head())\n",
    "print(y_train.head())"
   ]
  },
  {
   "cell_type": "code",
   "execution_count": 20,
   "metadata": {
    "executionInfo": {
     "elapsed": 379,
     "status": "ok",
     "timestamp": 1738864243595,
     "user": {
      "displayName": "nimoy",
      "userId": "12145814232676261569"
     },
     "user_tz": -330
    },
    "id": "c4M5Q4SJYJlK"
   },
   "outputs": [],
   "source": [
    "# Normalize features\n",
    "scaler = StandardScaler()\n",
    "X_train = scaler.fit_transform(X_train)\n",
    "X_test = scaler.transform(X_test)"
   ]
  },
  {
   "cell_type": "code",
   "execution_count": 21,
   "metadata": {
    "colab": {
     "base_uri": "https://localhost:8080/"
    },
    "executionInfo": {
     "elapsed": 362,
     "status": "ok",
     "timestamp": 1738864252989,
     "user": {
      "displayName": "nimoy",
      "userId": "12145814232676261569"
     },
     "user_tz": -330
    },
    "id": "Zgp1VqFoYq-s",
    "outputId": "2c48d054-f8b4-4a33-92fe-090521b26f61"
   },
   "outputs": [
    {
     "name": "stdout",
     "output_type": "stream",
     "text": [
      "[[ 0.47222651 -1.0246016  -1.75652513  0.73433626 -0.50874702 -0.45611589]\n",
      " [ 0.54331294 -1.0246016  -1.03308239 -0.91119211 -0.50874702 -1.35325561]\n",
      " [ 0.8987451  -1.0246016  -0.94368672 -0.91119211 -0.50874702  0.44102382]\n",
      " ...\n",
      " [ 1.3252637   0.97598911 -0.89153925 -0.91119211 -0.50874702 -1.35325561]\n",
      " [-0.16755139 -1.0246016   2.82086429  0.73433626  1.96561348  1.33816354]\n",
      " [ 1.1120044   0.97598911 -0.10932713 -0.91119211 -0.50874702  1.33816354]]\n"
     ]
    }
   ],
   "source": [
    "print(X_train)"
   ]
  },
  {
   "cell_type": "code",
   "execution_count": 22,
   "metadata": {
    "executionInfo": {
     "elapsed": 2,
     "status": "ok",
     "timestamp": 1738864560220,
     "user": {
      "displayName": "nimoy",
      "userId": "12145814232676261569"
     },
     "user_tz": -330
    },
    "id": "0Fv9A-sHYr2j"
   },
   "outputs": [],
   "source": [
    "# Convert to tensors\n",
    "X_train_tensor = torch.tensor(X_train, dtype=torch.float32)\n",
    "y_train_tensor = torch.tensor(y_train.values, dtype=torch.float32).view(-1, 1)\n",
    "X_test_tensor = torch.tensor(X_test, dtype=torch.float32)\n",
    "y_test_tensor = torch.tensor(y_test.values, dtype=torch.float32).view(-1, 1)"
   ]
  },
  {
   "cell_type": "code",
   "execution_count": 23,
   "metadata": {
    "colab": {
     "base_uri": "https://localhost:8080/"
    },
    "executionInfo": {
     "elapsed": 331,
     "status": "ok",
     "timestamp": 1738864583068,
     "user": {
      "displayName": "nimoy",
      "userId": "12145814232676261569"
     },
     "user_tz": -330
    },
    "id": "hL1WKRC2Zt2W",
    "outputId": "22feb9b9-174c-4b04-e4fe-cb1101631c51"
   },
   "outputs": [
    {
     "name": "stdout",
     "output_type": "stream",
     "text": [
      "tensor([[ 9193.8389],\n",
      "        [ 8534.6719],\n",
      "        [27117.9941],\n",
      "        ...,\n",
      "        [11931.1250],\n",
      "        [46113.5117],\n",
      "        [10214.6357]])\n",
      "torch.Size([1070, 1])\n"
     ]
    }
   ],
   "source": [
    "print(y_train_tensor)\n",
    "print(y_train_tensor.shape)"
   ]
  },
  {
   "cell_type": "code",
   "execution_count": 24,
   "metadata": {
    "colab": {
     "base_uri": "https://localhost:8080/"
    },
    "executionInfo": {
     "elapsed": 1,
     "status": "ok",
     "timestamp": 1738864605250,
     "user": {
      "displayName": "nimoy",
      "userId": "12145814232676261569"
     },
     "user_tz": -330
    },
    "id": "kiAcUwVvZ6it",
    "outputId": "454f6528-1262-4f1e-d8b1-71ee31263b63"
   },
   "outputs": [
    {
     "name": "stdout",
     "output_type": "stream",
     "text": [
      "tensor([[ 0.4011, -1.0246, -0.8915,  0.7343, -0.5087, -1.3533],\n",
      "        [-0.2386, -1.0246, -0.0895, -0.9112, -0.5087, -0.4561],\n",
      "        [ 1.7518, -1.0246, -0.6085, -0.9112,  1.9656, -0.4561],\n",
      "        ...,\n",
      "        [-0.0965,  0.9760, -0.4197, -0.0884, -0.5087, -1.3533],\n",
      "        [ 1.0409, -1.0246,  2.7894, -0.9112,  1.9656,  0.4410],\n",
      "        [ 0.8277, -1.0246,  0.6025, -0.0884, -0.5087,  1.3382]])\n",
      "torch.Size([268, 6])\n"
     ]
    }
   ],
   "source": [
    "print(X_test_tensor)\n",
    "print(X_test_tensor.shape)"
   ]
  },
  {
   "cell_type": "code",
   "execution_count": 27,
   "metadata": {},
   "outputs": [],
   "source": [
    "class NN(nn.Module):\n",
    "    def __init__(self,input_size,hl1_size,hl2_size,output_size):\n",
    "        super(NN,self).__init__() \n",
    "        '''Layers'''\n",
    "        self.fc1=nn.Linear(input_size,hl1_size)  #hl1\n",
    "        self.relu1=nn.ReLU()\n",
    "        self.fc2=nn.Linear(hl1_size,hl2_size)    #hl2\n",
    "        self.relu2=nn.ReLU()                     \n",
    "        self.fc3=nn.Linear(hl2_size,output_size) #output layer\n",
    "        self.relu3=nn.ReLU()                     #since output is positive always we can use relu instead of linear\n",
    "        \n",
    "    \n",
    "    def forward(self,x):\n",
    "        x=self.fc1(x)  \n",
    "        x=self.relu1(x)\n",
    "        x=self.fc2(x)\n",
    "        x=self.relu2(x)\n",
    "        x=self.fc3(x)\n",
    "        x=self.relu3(x)\n",
    "        return x  "
   ]
  },
  {
   "cell_type": "code",
   "execution_count": 39,
   "metadata": {},
   "outputs": [],
   "source": [
    "model=NN(X_train_tensor.shape[1],64,64,1)"
   ]
  },
  {
   "cell_type": "code",
   "execution_count": 40,
   "metadata": {},
   "outputs": [
    {
     "name": "stdout",
     "output_type": "stream",
     "text": [
      "NN(\n",
      "  (fc1): Linear(in_features=6, out_features=64, bias=True)\n",
      "  (relu1): ReLU()\n",
      "  (fc2): Linear(in_features=64, out_features=64, bias=True)\n",
      "  (relu2): ReLU()\n",
      "  (fc3): Linear(in_features=64, out_features=1, bias=True)\n",
      "  (relu3): ReLU()\n",
      ")\n"
     ]
    }
   ],
   "source": [
    "print(model)"
   ]
  },
  {
   "cell_type": "code",
   "execution_count": 41,
   "metadata": {},
   "outputs": [],
   "source": [
    "criterion=nn.MSELoss()\n",
    "optimizer=optim.Adam(model.parameters(),lr=0.01)"
   ]
  },
  {
   "cell_type": "code",
   "execution_count": 42,
   "metadata": {},
   "outputs": [
    {
     "data": {
      "text/plain": [
       "torch.Size([1070, 6])"
      ]
     },
     "execution_count": 42,
     "metadata": {},
     "output_type": "execute_result"
    }
   ],
   "source": [
    "X_train_tensor.shape"
   ]
  },
  {
   "cell_type": "code",
   "execution_count": 47,
   "metadata": {},
   "outputs": [
    {
     "name": "stdout",
     "output_type": "stream",
     "text": [
      "Epoch 0/[1000] - - - - - - - - - -  Loss: 17335662.0000\n",
      "Epoch 10/[1000] - - - - - - - - - -  Loss: 17310878.0000\n",
      "Epoch 20/[1000] - - - - - - - - - -  Loss: 17288066.0000\n",
      "Epoch 30/[1000] - - - - - - - - - -  Loss: 17265544.0000\n",
      "Epoch 40/[1000] - - - - - - - - - -  Loss: 17239044.0000\n",
      "Epoch 50/[1000] - - - - - - - - - -  Loss: 17214638.0000\n",
      "Epoch 60/[1000] - - - - - - - - - -  Loss: 17192374.0000\n",
      "Epoch 70/[1000] - - - - - - - - - -  Loss: 17174062.0000\n",
      "Epoch 80/[1000] - - - - - - - - - -  Loss: 17149960.0000\n",
      "Epoch 90/[1000] - - - - - - - - - -  Loss: 17132048.0000\n",
      "Epoch 100/[1000] - - - - - - - - - -  Loss: 17111876.0000\n",
      "Epoch 110/[1000] - - - - - - - - - -  Loss: 17097904.0000\n",
      "Epoch 120/[1000] - - - - - - - - - -  Loss: 17075760.0000\n",
      "Epoch 130/[1000] - - - - - - - - - -  Loss: 17052502.0000\n",
      "Epoch 140/[1000] - - - - - - - - - -  Loss: 17035786.0000\n",
      "Epoch 150/[1000] - - - - - - - - - -  Loss: 17015108.0000\n",
      "Epoch 160/[1000] - - - - - - - - - -  Loss: 16997536.0000\n",
      "Epoch 170/[1000] - - - - - - - - - -  Loss: 16980506.0000\n",
      "Epoch 180/[1000] - - - - - - - - - -  Loss: 16962022.0000\n",
      "Epoch 190/[1000] - - - - - - - - - -  Loss: 16941076.0000\n",
      "Epoch 200/[1000] - - - - - - - - - -  Loss: 16916550.0000\n",
      "Epoch 210/[1000] - - - - - - - - - -  Loss: 16900418.0000\n",
      "Epoch 220/[1000] - - - - - - - - - -  Loss: 16879044.0000\n",
      "Epoch 230/[1000] - - - - - - - - - -  Loss: 16855970.0000\n",
      "Epoch 240/[1000] - - - - - - - - - -  Loss: 16830708.0000\n",
      "Epoch 250/[1000] - - - - - - - - - -  Loss: 16811958.0000\n",
      "Epoch 260/[1000] - - - - - - - - - -  Loss: 16789416.0000\n",
      "Epoch 270/[1000] - - - - - - - - - -  Loss: 16765787.0000\n",
      "Epoch 280/[1000] - - - - - - - - - -  Loss: 16739849.0000\n",
      "Epoch 290/[1000] - - - - - - - - - -  Loss: 16714899.0000\n",
      "Epoch 300/[1000] - - - - - - - - - -  Loss: 16688543.0000\n",
      "Epoch 310/[1000] - - - - - - - - - -  Loss: 16660312.0000\n",
      "Epoch 320/[1000] - - - - - - - - - -  Loss: 16635630.0000\n",
      "Epoch 330/[1000] - - - - - - - - - -  Loss: 16608465.0000\n",
      "Epoch 340/[1000] - - - - - - - - - -  Loss: 16572671.0000\n",
      "Epoch 350/[1000] - - - - - - - - - -  Loss: 16542584.0000\n",
      "Epoch 360/[1000] - - - - - - - - - -  Loss: 16515290.0000\n",
      "Epoch 370/[1000] - - - - - - - - - -  Loss: 16493735.0000\n",
      "Epoch 380/[1000] - - - - - - - - - -  Loss: 16475067.0000\n",
      "Epoch 390/[1000] - - - - - - - - - -  Loss: 16454832.0000\n",
      "Epoch 400/[1000] - - - - - - - - - -  Loss: 16436578.0000\n",
      "Epoch 410/[1000] - - - - - - - - - -  Loss: 16417321.0000\n",
      "Epoch 420/[1000] - - - - - - - - - -  Loss: 16394764.0000\n",
      "Epoch 430/[1000] - - - - - - - - - -  Loss: 16375490.0000\n",
      "Epoch 440/[1000] - - - - - - - - - -  Loss: 16352403.0000\n",
      "Epoch 450/[1000] - - - - - - - - - -  Loss: 16332388.0000\n",
      "Epoch 460/[1000] - - - - - - - - - -  Loss: 16312749.0000\n",
      "Epoch 470/[1000] - - - - - - - - - -  Loss: 16289733.0000\n",
      "Epoch 480/[1000] - - - - - - - - - -  Loss: 16273391.0000\n",
      "Epoch 490/[1000] - - - - - - - - - -  Loss: 16233506.0000\n",
      "Epoch 500/[1000] - - - - - - - - - -  Loss: 16200348.0000\n",
      "Epoch 510/[1000] - - - - - - - - - -  Loss: 16177165.0000\n",
      "Epoch 520/[1000] - - - - - - - - - -  Loss: 16148189.0000\n",
      "Epoch 530/[1000] - - - - - - - - - -  Loss: 16122419.0000\n",
      "Epoch 540/[1000] - - - - - - - - - -  Loss: 16098314.0000\n",
      "Epoch 550/[1000] - - - - - - - - - -  Loss: 16070966.0000\n",
      "Epoch 560/[1000] - - - - - - - - - -  Loss: 16046781.0000\n",
      "Epoch 570/[1000] - - - - - - - - - -  Loss: 16020317.0000\n",
      "Epoch 580/[1000] - - - - - - - - - -  Loss: 15995842.0000\n",
      "Epoch 590/[1000] - - - - - - - - - -  Loss: 15973416.0000\n",
      "Epoch 600/[1000] - - - - - - - - - -  Loss: 15948074.0000\n",
      "Epoch 610/[1000] - - - - - - - - - -  Loss: 15927214.0000\n",
      "Epoch 620/[1000] - - - - - - - - - -  Loss: 15909389.0000\n",
      "Epoch 630/[1000] - - - - - - - - - -  Loss: 15885974.0000\n",
      "Epoch 640/[1000] - - - - - - - - - -  Loss: 15865211.0000\n",
      "Epoch 650/[1000] - - - - - - - - - -  Loss: 15840385.0000\n",
      "Epoch 660/[1000] - - - - - - - - - -  Loss: 15819016.0000\n",
      "Epoch 670/[1000] - - - - - - - - - -  Loss: 15796792.0000\n",
      "Epoch 680/[1000] - - - - - - - - - -  Loss: 15778796.0000\n",
      "Epoch 690/[1000] - - - - - - - - - -  Loss: 15758624.0000\n",
      "Epoch 700/[1000] - - - - - - - - - -  Loss: 15741863.0000\n",
      "Epoch 710/[1000] - - - - - - - - - -  Loss: 15724577.0000\n",
      "Epoch 720/[1000] - - - - - - - - - -  Loss: 15709298.0000\n",
      "Epoch 730/[1000] - - - - - - - - - -  Loss: 15681039.0000\n",
      "Epoch 740/[1000] - - - - - - - - - -  Loss: 15664186.0000\n",
      "Epoch 750/[1000] - - - - - - - - - -  Loss: 15643420.0000\n",
      "Epoch 760/[1000] - - - - - - - - - -  Loss: 15625700.0000\n",
      "Epoch 770/[1000] - - - - - - - - - -  Loss: 15607884.0000\n",
      "Epoch 780/[1000] - - - - - - - - - -  Loss: 15588443.0000\n",
      "Epoch 790/[1000] - - - - - - - - - -  Loss: 15568707.0000\n",
      "Epoch 800/[1000] - - - - - - - - - -  Loss: 15550939.0000\n",
      "Epoch 810/[1000] - - - - - - - - - -  Loss: 15526047.0000\n",
      "Epoch 820/[1000] - - - - - - - - - -  Loss: 15501729.0000\n",
      "Epoch 830/[1000] - - - - - - - - - -  Loss: 15479858.0000\n",
      "Epoch 840/[1000] - - - - - - - - - -  Loss: 15458474.0000\n",
      "Epoch 850/[1000] - - - - - - - - - -  Loss: 15440682.0000\n",
      "Epoch 860/[1000] - - - - - - - - - -  Loss: 15424006.0000\n",
      "Epoch 870/[1000] - - - - - - - - - -  Loss: 15407978.0000\n",
      "Epoch 880/[1000] - - - - - - - - - -  Loss: 15386781.0000\n",
      "Epoch 890/[1000] - - - - - - - - - -  Loss: 15361163.0000\n",
      "Epoch 900/[1000] - - - - - - - - - -  Loss: 15339961.0000\n",
      "Epoch 910/[1000] - - - - - - - - - -  Loss: 15324472.0000\n",
      "Epoch 920/[1000] - - - - - - - - - -  Loss: 15300855.0000\n",
      "Epoch 930/[1000] - - - - - - - - - -  Loss: 15281943.0000\n",
      "Epoch 940/[1000] - - - - - - - - - -  Loss: 15260253.0000\n",
      "Epoch 950/[1000] - - - - - - - - - -  Loss: 15239553.0000\n",
      "Epoch 960/[1000] - - - - - - - - - -  Loss: 15216974.0000\n",
      "Epoch 970/[1000] - - - - - - - - - -  Loss: 15201567.0000\n",
      "Epoch 980/[1000] - - - - - - - - - -  Loss: 15178030.0000\n",
      "Epoch 990/[1000] - - - - - - - - - -  Loss: 15154145.0000\n"
     ]
    }
   ],
   "source": [
    "epochs=1000\n",
    "for i in range(epochs):\n",
    "    optimizer.zero_grad()\n",
    "    y_hat=model(X_train_tensor)\n",
    "    loss=criterion(y_hat,y_train_tensor)\n",
    "    loss.backward()\n",
    "    optimizer.step()\n",
    "    if(i%10==0):\n",
    "        print(f\"Epoch {i}/[{epochs}] {'- '*10} Loss: {loss.item():.4f}\")"
   ]
  },
  {
   "cell_type": "code",
   "execution_count": 48,
   "metadata": {},
   "outputs": [
    {
     "data": {
      "text/plain": [
       "NN(\n",
       "  (fc1): Linear(in_features=6, out_features=64, bias=True)\n",
       "  (relu1): ReLU()\n",
       "  (fc2): Linear(in_features=64, out_features=64, bias=True)\n",
       "  (relu2): ReLU()\n",
       "  (fc3): Linear(in_features=64, out_features=1, bias=True)\n",
       "  (relu3): ReLU()\n",
       ")"
      ]
     },
     "execution_count": 48,
     "metadata": {},
     "output_type": "execute_result"
    }
   ],
   "source": [
    "model.eval()"
   ]
  },
  {
   "cell_type": "code",
   "execution_count": 50,
   "metadata": {},
   "outputs": [],
   "source": [
    "y_pred_train=model(X_train_tensor).detach().numpy()\n",
    "y_pred_test=model(X_test_tensor).detach().numpy()"
   ]
  },
  {
   "cell_type": "code",
   "execution_count": 51,
   "metadata": {},
   "outputs": [
    {
     "name": "stdout",
     "output_type": "stream",
     "text": [
      "\"Train Accuracy\" : 0.8818362821024882\n",
      "\"Test Accuracy\" : 0.8222960193508666\n"
     ]
    }
   ],
   "source": [
    "from sklearn.metrics import r2_score\n",
    "print(f'\"Train Accuracy\" : {r2_score(y_pred_train,y_train)}')\n",
    "print(f'\"Test Accuracy\" : {r2_score(y_pred_test,y_test)}')"
   ]
  },
  {
   "cell_type": "code",
   "execution_count": null,
   "metadata": {},
   "outputs": [],
   "source": []
  },
  {
   "cell_type": "code",
   "execution_count": null,
   "metadata": {},
   "outputs": [],
   "source": []
  },
  {
   "cell_type": "code",
   "execution_count": null,
   "metadata": {},
   "outputs": [],
   "source": []
  }
 ],
 "metadata": {
  "colab": {
   "authorship_tag": "ABX9TyNbp7JrIHkVofKMpvKUJrRL",
   "provenance": []
  },
  "kernelspec": {
   "display_name": "TorchLearnEnv",
   "language": "python",
   "name": "python3"
  },
  "language_info": {
   "codemirror_mode": {
    "name": "ipython",
    "version": 3
   },
   "file_extension": ".py",
   "mimetype": "text/x-python",
   "name": "python",
   "nbconvert_exporter": "python",
   "pygments_lexer": "ipython3",
   "version": "3.13.5"
  }
 },
 "nbformat": 4,
 "nbformat_minor": 0
}
