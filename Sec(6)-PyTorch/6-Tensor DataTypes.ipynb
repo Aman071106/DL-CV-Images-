{
 "cells": [
  {
   "cell_type": "markdown",
   "metadata": {
    "id": "aWkgC9RFtiGC"
   },
   "source": [
    "# Tensor DataTypes\n",
    "![](https://drive.google.com/uc?id=1TbTCC-akX_MU9ViiIIeBJftoImsCK2Hd)"
   ]
  },
  {
   "cell_type": "code",
   "execution_count": null,
   "metadata": {
    "id": "ctbQEaoLtjdn"
   },
   "outputs": [],
   "source": [
    "# data types for tensors\n",
    "'''\n",
    "* floating -- for most deep learning tasks ---> float32, float64, float16\n",
    "* integers - for categorical data and indices --> int32, int64, int8\n",
    "* booleans - mask or logical operation\n",
    "* Complex number - advanced computation --> complex64, complex128\n",
    "\n",
    "memory consumption : float16 << float32 << float64\n",
    "computation : lower precision will be faster on gpu\n",
    "numberical precision : float64 is more precise than float32\n",
    "'''"
   ]
  },
  {
   "cell_type": "code",
   "execution_count": 1,
   "metadata": {
    "executionInfo": {
     "elapsed": 4244,
     "status": "ok",
     "timestamp": 1737561808582,
     "user": {
      "displayName": "nimoy",
      "userId": "12145814232676261569"
     },
     "user_tz": -330
    },
    "id": "zskQfkLIwOya"
   },
   "outputs": [],
   "source": [
    "import torch"
   ]
  },
  {
   "cell_type": "code",
   "execution_count": 2,
   "metadata": {
    "colab": {
     "base_uri": "https://localhost:8080/"
    },
    "executionInfo": {
     "elapsed": 3,
     "status": "ok",
     "timestamp": 1737561857705,
     "user": {
      "displayName": "nimoy",
      "userId": "12145814232676261569"
     },
     "user_tz": -330
    },
    "id": "HrnffgiLwP_X",
    "outputId": "15bb533e-a331-407d-ff8a-46103f76c91e"
   },
   "outputs": [
    {
     "name": "stdout",
     "output_type": "stream",
     "text": [
      "torch.float32\n"
     ]
    }
   ],
   "source": [
    "default_tensor = torch.tensor([1.5, 2.5, 3.5])\n",
    "print(default_tensor.dtype)"
   ]
  },
  {
   "cell_type": "code",
   "execution_count": 3,
   "metadata": {
    "colab": {
     "base_uri": "https://localhost:8080/"
    },
    "executionInfo": {
     "elapsed": 401,
     "status": "ok",
     "timestamp": 1737561897888,
     "user": {
      "displayName": "nimoy",
      "userId": "12145814232676261569"
     },
     "user_tz": -330
    },
    "id": "poE7dFG2wdQg",
    "outputId": "60fe5f00-ca39-4c02-ab36-064160f371ac"
   },
   "outputs": [
    {
     "name": "stdout",
     "output_type": "stream",
     "text": [
      "torch.float64\n"
     ]
    }
   ],
   "source": [
    "float_tensor = torch.tensor([1.5, 2.5, 3.5], dtype=torch.float64)\n",
    "print(float_tensor.dtype)"
   ]
  },
  {
   "cell_type": "code",
   "execution_count": 5,
   "metadata": {
    "colab": {
     "base_uri": "https://localhost:8080/"
    },
    "executionInfo": {
     "elapsed": 510,
     "status": "ok",
     "timestamp": 1737561948411,
     "user": {
      "displayName": "nimoy",
      "userId": "12145814232676261569"
     },
     "user_tz": -330
    },
    "id": "c1z5lZ_VwnbA",
    "outputId": "16e632fc-2f2c-46c9-aa2e-362f9d159418"
   },
   "outputs": [
    {
     "name": "stdout",
     "output_type": "stream",
     "text": [
      "torch.int32\n",
      "tensor([1, 2, 3], dtype=torch.int32)\n"
     ]
    }
   ],
   "source": [
    "int_tensor = torch.tensor([1.5, 2.5, 3.5], dtype=torch.int32)\n",
    "print(int_tensor.dtype)\n",
    "print(int_tensor)"
   ]
  },
  {
   "cell_type": "code",
   "execution_count": 6,
   "metadata": {
    "colab": {
     "base_uri": "https://localhost:8080/"
    },
    "executionInfo": {
     "elapsed": 368,
     "status": "ok",
     "timestamp": 1737561979063,
     "user": {
      "displayName": "nimoy",
      "userId": "12145814232676261569"
     },
     "user_tz": -330
    },
    "id": "lFVb6DMUwxNw",
    "outputId": "2bf878c9-d28a-4fef-f0d0-e9ff84bb2257"
   },
   "outputs": [
    {
     "name": "stdout",
     "output_type": "stream",
     "text": [
      "torch.int64\n",
      "tensor([1, 2, 3])\n"
     ]
    }
   ],
   "source": [
    "int_tensor = torch.tensor([1, 2, 3])\n",
    "print(int_tensor.dtype)\n",
    "print(int_tensor)"
   ]
  },
  {
   "cell_type": "code",
   "execution_count": 9,
   "metadata": {
    "colab": {
     "base_uri": "https://localhost:8080/"
    },
    "executionInfo": {
     "elapsed": 564,
     "status": "ok",
     "timestamp": 1737562060604,
     "user": {
      "displayName": "nimoy",
      "userId": "12145814232676261569"
     },
     "user_tz": -330
    },
    "id": "VG_cmfXiw7S5",
    "outputId": "49d61b62-6cf4-425c-93b4-456a7eb3ee1a"
   },
   "outputs": [
    {
     "name": "stdout",
     "output_type": "stream",
     "text": [
      "torch.bool\n",
      "tensor([ True, False,  True])\n"
     ]
    }
   ],
   "source": [
    "bool_tensor = torch.tensor([True, False, True], dtype=torch.bool)\n",
    "print(bool_tensor.dtype)\n",
    "print(bool_tensor)"
   ]
  },
  {
   "cell_type": "code",
   "execution_count": 14,
   "metadata": {
    "colab": {
     "base_uri": "https://localhost:8080/"
    },
    "executionInfo": {
     "elapsed": 343,
     "status": "ok",
     "timestamp": 1737562239077,
     "user": {
      "displayName": "nimoy",
      "userId": "12145814232676261569"
     },
     "user_tz": -330
    },
    "id": "9hQRSJRrxJ4x",
    "outputId": "d912f00e-d94b-4b8e-beb0-434901dfc53e"
   },
   "outputs": [
    {
     "name": "stdout",
     "output_type": "stream",
     "text": [
      "torch.float32\n",
      "tensor([1.5000, 2.5000, 3.5000])\n",
      "torch.int64\n",
      "tensor([1, 2, 3])\n",
      "torch.bool\n",
      "tensor([False,  True,  True, False,  True])\n"
     ]
    }
   ],
   "source": [
    "float_tensor = torch.tensor([1.5, 2.5, 3.5])\n",
    "print(float_tensor.dtype)\n",
    "print(float_tensor)\n",
    "\n",
    "int_tensor = float_tensor.to(torch.int64)\n",
    "print(int_tensor.dtype)\n",
    "print(int_tensor)\n",
    "\n",
    "int_tensor = torch.tensor([0,1,2,0, -1])\n",
    "bool_tensor = int_tensor.to(torch.bool)\n",
    "print(bool_tensor.dtype)\n",
    "print(bool_tensor)"
   ]
  },
  {
   "cell_type": "markdown",
   "metadata": {
    "id": "ov3asgfryFAy"
   },
   "source": [
    "## impact of data type on memory"
   ]
  },
  {
   "cell_type": "code",
   "execution_count": 16,
   "metadata": {
    "colab": {
     "base_uri": "https://localhost:8080/"
    },
    "executionInfo": {
     "elapsed": 1089,
     "status": "ok",
     "timestamp": 1737562583057,
     "user": {
      "displayName": "nimoy",
      "userId": "12145814232676261569"
     },
     "user_tz": -330
    },
    "id": "vtvgs136xXlC",
    "outputId": "42070a46-aa5e-45cc-c113-2747d47d5c07"
   },
   "outputs": [
    {
     "name": "stdout",
     "output_type": "stream",
     "text": [
      "4\n",
      "1000\n",
      "Memory used by float32 tensor :  4000  bytes\n",
      "Memory used by float64 tensor :  8000  bytes\n"
     ]
    }
   ],
   "source": [
    "float32_tensor = torch.ones(1000, dtype=torch.float32)\n",
    "float64_tensor = torch.ones(1000, dtype=torch.float64)\n",
    "\n",
    "# tensor.element_size()\n",
    "# element_size() --> gives you the size of one element in bytes\n",
    "# nelement() --> gives the total number of elements in tensor\n",
    "\n",
    "print(float32_tensor.element_size())\n",
    "print(float32_tensor.nelement())\n",
    "print(\"Memory used by float32 tensor : \", float32_tensor.element_size() * float32_tensor.nelement(), \" bytes\")\n",
    "print(\"Memory used by float64 tensor : \", float64_tensor.element_size() * float64_tensor.nelement(), \" bytes\")"
   ]
  },
  {
   "cell_type": "code",
   "execution_count": null,
   "metadata": {
    "id": "TUGMuvZGzAzm"
   },
   "outputs": [],
   "source": [
    "# float32 --> default for most NN models\n",
    "# float64 --> high precision computation\n",
    "# int32 --> general purpose integer\n",
    "# int64 --> tensor indices\n",
    "# int8, int16 --> reduce memory usage\n",
    "# bool --> mask and logical operation\n",
    "# float16 --> half  ur default floating dtype, reduce memory usage\n",
    "# complex64 --> advanced computation"
   ]
  }
 ],
 "metadata": {
  "colab": {
   "authorship_tag": "ABX9TyMXWRR7cqbybEaGY1NUJD0J",
   "provenance": []
  },
  "kernelspec": {
   "display_name": "Python 3",
   "name": "python3"
  },
  "language_info": {
   "name": "python"
  }
 },
 "nbformat": 4,
 "nbformat_minor": 0
}
