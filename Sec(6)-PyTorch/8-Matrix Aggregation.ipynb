{
 "cells": [
  {
   "cell_type": "markdown",
   "metadata": {
    "id": "PWaEnIY1RLLJ"
   },
   "source": [
    "# Matrix Aggregation\n",
    "![](https://drive.google.com/uc?id=1bY4SFM10WMDvh7OJKzx9gjqsaM-ut-JU)"
   ]
  },
  {
   "cell_type": "code",
   "execution_count": 1,
   "metadata": {
    "executionInfo": {
     "elapsed": 9336,
     "status": "ok",
     "timestamp": 1737656123272,
     "user": {
      "displayName": "nimoy",
      "userId": "12145814232676261569"
     },
     "user_tz": -330
    },
    "id": "l3H2CaO_RMMF"
   },
   "outputs": [],
   "source": [
    "import torch"
   ]
  },
  {
   "cell_type": "code",
   "execution_count": 2,
   "metadata": {
    "colab": {
     "base_uri": "https://localhost:8080/"
    },
    "executionInfo": {
     "elapsed": 697,
     "status": "ok",
     "timestamp": 1737656152752,
     "user": {
      "displayName": "nimoy",
      "userId": "12145814232676261569"
     },
     "user_tz": -330
    },
    "id": "0xL7WN1zX8oO",
    "outputId": "dd137dd3-bfd9-4f66-a657-0ed801100753"
   },
   "outputs": [
    {
     "name": "stdout",
     "output_type": "stream",
     "text": [
      "tensor([[1., 2., 3.],\n",
      "        [4., 5., 6.],\n",
      "        [7., 8., 9.]])\n"
     ]
    }
   ],
   "source": [
    "matrix = torch.tensor([[1., 2., 3.],\n",
    "              [4., 5., 6.],\n",
    "              [7., 8., 9.],])\n",
    "\n",
    "print(matrix)"
   ]
  },
  {
   "cell_type": "code",
   "execution_count": 7,
   "metadata": {
    "colab": {
     "base_uri": "https://localhost:8080/"
    },
    "executionInfo": {
     "elapsed": 468,
     "status": "ok",
     "timestamp": 1737656485854,
     "user": {
      "displayName": "nimoy",
      "userId": "12145814232676261569"
     },
     "user_tz": -330
    },
    "id": "rlIYBDuQZbNp",
    "outputId": "6e4a2241-205b-4efd-a6fd-09ecaf330d1b"
   },
   "outputs": [
    {
     "data": {
      "text/plain": [
       "12"
      ]
     },
     "execution_count": 7,
     "metadata": {},
     "output_type": "execute_result"
    }
   ],
   "source": [
    "7+4+1"
   ]
  },
  {
   "cell_type": "code",
   "execution_count": 4,
   "metadata": {
    "colab": {
     "base_uri": "https://localhost:8080/"
    },
    "executionInfo": {
     "elapsed": 574,
     "status": "ok",
     "timestamp": 1737656224843,
     "user": {
      "displayName": "nimoy",
      "userId": "12145814232676261569"
     },
     "user_tz": -330
    },
    "id": "tomf0S73YKmH",
    "outputId": "8752c5bf-4605-4d5d-8095-6195b7259949"
   },
   "outputs": [
    {
     "name": "stdout",
     "output_type": "stream",
     "text": [
      "tensor(45.)\n",
      "tensor(1.)\n",
      "tensor(9.)\n",
      "tensor(5.)\n",
      "tensor(5.)\n"
     ]
    }
   ],
   "source": [
    "print(matrix.sum())\n",
    "print(matrix.min())\n",
    "print(matrix.max())\n",
    "print(matrix.median())\n",
    "print(matrix.mean())"
   ]
  },
  {
   "cell_type": "code",
   "execution_count": 8,
   "metadata": {
    "colab": {
     "base_uri": "https://localhost:8080/"
    },
    "executionInfo": {
     "elapsed": 459,
     "status": "ok",
     "timestamp": 1737656511905,
     "user": {
      "displayName": "nimoy",
      "userId": "12145814232676261569"
     },
     "user_tz": -330
    },
    "id": "5dBPpMZbYPOO",
    "outputId": "3ac18710-1ee5-4cc1-afc9-1b7671f3348d"
   },
   "outputs": [
    {
     "name": "stdout",
     "output_type": "stream",
     "text": [
      "torch.return_types.max(\n",
      "values=tensor([7., 8., 9.]),\n",
      "indices=tensor([2, 2, 2]))\n",
      "tensor([12., 15., 18.])\n",
      "tensor([ 6., 15., 24.])\n"
     ]
    }
   ],
   "source": [
    "# dim=0 --> rows (column)\n",
    "# dim=1 --> colmn (rows)\n",
    "\n",
    "print(matrix.max(dim=0))\n",
    "print(matrix.sum(dim=0))\n",
    "print(matrix.sum(dim=1))"
   ]
  },
  {
   "cell_type": "code",
   "execution_count": null,
   "metadata": {},
   "outputs": [],
   "source": [
    "# Aggregation on a particular dimension removes that dimension. Rest shape  remains same"
   ]
  },
  {
   "cell_type": "code",
   "execution_count": 9,
   "metadata": {
    "colab": {
     "base_uri": "https://localhost:8080/"
    },
    "executionInfo": {
     "elapsed": 3,
     "status": "ok",
     "timestamp": 1737656619437,
     "user": {
      "displayName": "nimoy",
      "userId": "12145814232676261569"
     },
     "user_tz": -330
    },
    "id": "UOicCf15ZCWp",
    "outputId": "d79f2b3a-1caa-43b4-c10e-d7f462cf8baf"
   },
   "outputs": [
    {
     "name": "stdout",
     "output_type": "stream",
     "text": [
      "tensor([[ 1.,  3.,  6.],\n",
      "        [ 4.,  9., 15.],\n",
      "        [ 7., 15., 24.]])\n"
     ]
    }
   ],
   "source": [
    "cumulative_sum = matrix.cumsum(dim=1)\n",
    "print(cumulative_sum)"
   ]
  },
  {
   "cell_type": "code",
   "execution_count": 10,
   "metadata": {
    "colab": {
     "base_uri": "https://localhost:8080/"
    },
    "executionInfo": {
     "elapsed": 3,
     "status": "ok",
     "timestamp": 1737656693888,
     "user": {
      "displayName": "nimoy",
      "userId": "12145814232676261569"
     },
     "user_tz": -330
    },
    "id": "2XB7upn3Z8jL",
    "outputId": "e57f61c5-8d86-4e40-9870-5d85c71d7e26"
   },
   "outputs": [
    {
     "name": "stdout",
     "output_type": "stream",
     "text": [
      "tensor([[  1.,   2.,   3.],\n",
      "        [  4.,  10.,  18.],\n",
      "        [ 28.,  80., 162.]])\n"
     ]
    }
   ],
   "source": [
    "cumulative_prod = matrix.cumprod(dim=0)\n",
    "print(cumulative_prod)"
   ]
  },
  {
   "cell_type": "code",
   "execution_count": 11,
   "metadata": {
    "colab": {
     "base_uri": "https://localhost:8080/"
    },
    "executionInfo": {
     "elapsed": 491,
     "status": "ok",
     "timestamp": 1737656707910,
     "user": {
      "displayName": "nimoy",
      "userId": "12145814232676261569"
     },
     "user_tz": -330
    },
    "id": "oRNVHFrbaPDs",
    "outputId": "c2008763-3c4a-48a7-d3f0-be44e351fe35"
   },
   "outputs": [
    {
     "data": {
      "text/plain": [
       "28"
      ]
     },
     "execution_count": 11,
     "metadata": {},
     "output_type": "execute_result"
    }
   ],
   "source": [
    "1*4*7"
   ]
  },
  {
   "cell_type": "code",
   "execution_count": 13,
   "metadata": {
    "colab": {
     "base_uri": "https://localhost:8080/"
    },
    "executionInfo": {
     "elapsed": 526,
     "status": "ok",
     "timestamp": 1737656810498,
     "user": {
      "displayName": "nimoy",
      "userId": "12145814232676261569"
     },
     "user_tz": -330
    },
    "id": "OReu57SMaSQ7",
    "outputId": "fdddc11f-99e7-491a-9044-f7f960fce4ef"
   },
   "outputs": [
    {
     "name": "stdout",
     "output_type": "stream",
     "text": [
      "tensor(30.)\n"
     ]
    }
   ],
   "source": [
    "# advance aggregation\n",
    "\n",
    "masked_matrix_sum = matrix[matrix>5].sum()\n",
    "print(masked_matrix_sum)"
   ]
  },
  {
   "cell_type": "code",
   "execution_count": 19,
   "metadata": {
    "colab": {
     "base_uri": "https://localhost:8080/"
    },
    "executionInfo": {
     "elapsed": 976,
     "status": "ok",
     "timestamp": 1737657088653,
     "user": {
      "displayName": "nimoy",
      "userId": "12145814232676261569"
     },
     "user_tz": -330
    },
    "id": "ZZMi1EoZap-N",
    "outputId": "ae061aea-d32e-40b6-8af8-f9eb41272f7e"
   },
   "outputs": [
    {
     "name": "stdout",
     "output_type": "stream",
     "text": [
      "tensor([[0, 0],\n",
      "        [0, 1],\n",
      "        [0, 2],\n",
      "        [1, 0],\n",
      "        [1, 1],\n",
      "        [1, 2],\n",
      "        [2, 0],\n",
      "        [2, 1],\n",
      "        [2, 2]])\n",
      "torch.Size([9, 2])\n",
      "9\n"
     ]
    }
   ],
   "source": [
    "matrix = torch.tensor([[1., 2., 3.],\n",
    "              [4., 5., 6.],\n",
    "              [7., 8., 9.],])\n",
    "\n",
    "non_zero = matrix.nonzero()\n",
    "print(non_zero)\n",
    "print(non_zero.shape)\n",
    "print(non_zero.size(0))"
   ]
  },
  {
   "cell_type": "markdown",
   "metadata": {
    "id": "xHQK5Q7vbr1A"
   },
   "source": [
    "# normalised matrix"
   ]
  },
  {
   "cell_type": "code",
   "execution_count": 20,
   "metadata": {
    "colab": {
     "base_uri": "https://localhost:8080/"
    },
    "executionInfo": {
     "elapsed": 420,
     "status": "ok",
     "timestamp": 1737657170878,
     "user": {
      "displayName": "nimoy",
      "userId": "12145814232676261569"
     },
     "user_tz": -330
    },
    "id": "JQLg64yya3xs",
    "outputId": "4b315bed-ee05-4259-f6e4-3f6a139f8c57"
   },
   "outputs": [
    {
     "name": "stdout",
     "output_type": "stream",
     "text": [
      "tensor([[0.0000, 0.1250, 0.2500],\n",
      "        [0.3750, 0.5000, 0.6250],\n",
      "        [0.7500, 0.8750, 1.0000]])\n"
     ]
    }
   ],
   "source": [
    "max_v = matrix.max()\n",
    "min_v = matrix.min()\n",
    "normalised_matrix = (matrix - min_v) / (max_v - min_v)\n",
    "\n",
    "print(normalised_matrix)"
   ]
  },
  {
   "cell_type": "code",
   "execution_count": null,
   "metadata": {
    "id": "_0kDQp5fcDWI"
   },
   "outputs": [],
   "source": []
  }
 ],
 "metadata": {
  "colab": {
   "authorship_tag": "ABX9TyOSNw5VFpVmA6KdomT7U1XV",
   "provenance": []
  },
  "kernelspec": {
   "display_name": "Python 3",
   "name": "python3"
  },
  "language_info": {
   "name": "python"
  }
 },
 "nbformat": 4,
 "nbformat_minor": 0
}
