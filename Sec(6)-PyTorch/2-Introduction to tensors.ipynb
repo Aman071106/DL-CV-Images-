{
 "cells": [
  {
   "cell_type": "markdown",
   "metadata": {
    "id": "3-pSsZbyq5DO"
   },
   "source": [
    "# Introduction to tensors\n",
    "![](https://drive.google.com/uc?id=1O6UR_eZELiWmcdro_u6tGUYdwTvaIYHU)"
   ]
  },
  {
   "cell_type": "markdown",
   "metadata": {},
   "source": [
    "#### Tensors are used to represent data in pytorch. These are multi dimensional arrays or matrix for vectorized oprations."
   ]
  },
  {
   "cell_type": "code",
   "execution_count": 1,
   "metadata": {
    "executionInfo": {
     "elapsed": 4515,
     "status": "ok",
     "timestamp": 1737480032979,
     "user": {
      "displayName": "nimoy",
      "userId": "12145814232676261569"
     },
     "user_tz": -330
    },
    "id": "SAe1tGTT0ip0"
   },
   "outputs": [],
   "source": [
    "import torch"
   ]
  },
  {
   "cell_type": "markdown",
   "metadata": {
    "id": "JOx6jfxb0mUL"
   },
   "source": [
    "# creating tensors"
   ]
  },
  {
   "cell_type": "code",
   "execution_count": null,
   "metadata": {
    "colab": {
     "base_uri": "https://localhost:8080/"
    },
    "executionInfo": {
     "elapsed": 4,
     "status": "ok",
     "timestamp": 1737480032980,
     "user": {
      "displayName": "nimoy",
      "userId": "12145814232676261569"
     },
     "user_tz": -330
    },
    "id": "S-pncdnA0juo",
    "outputId": "7b94d844-8791-461a-d2f6-4eeffdc1def4"
   },
   "outputs": [
    {
     "name": "stdout",
     "output_type": "stream",
     "text": [
      "Scalar tensor :  tensor(42)\n",
      "Scalar Dimension :  0\n",
      "Shape of Scalar tensor :  torch.Size([])\n"
     ]
    }
   ],
   "source": [
    "# 1. Scalar tensor 0D is called scalar\n",
    "\n",
    "scalar = torch.tensor(42)\n",
    "print(\"Scalar tensor : \", scalar)\n",
    "print(\"Scalar Dimension : \", scalar.ndim)\n",
    "print(\"Shape of Scalar tensor : \", scalar.shape)"
   ]
  },
  {
   "cell_type": "code",
   "execution_count": 3,
   "metadata": {
    "colab": {
     "base_uri": "https://localhost:8080/"
    },
    "executionInfo": {
     "elapsed": 3,
     "status": "ok",
     "timestamp": 1737480032980,
     "user": {
      "displayName": "nimoy",
      "userId": "12145814232676261569"
     },
     "user_tz": -330
    },
    "id": "THXfLZKY1RYa",
    "outputId": "9097ccf8-a037-426d-e057-4c811b7b15eb"
   },
   "outputs": [
    {
     "name": "stdout",
     "output_type": "stream",
     "text": [
      "vector tensor :  tensor([1, 2, 3])\n",
      "vector Dimension :  1\n",
      "Shape of vector tensor :  torch.Size([3])\n"
     ]
    }
   ],
   "source": [
    "# 1D tensor : Vector\n",
    "\n",
    "vector = torch.tensor([1,2,3])\n",
    "print(\"vector tensor : \", vector)\n",
    "print(\"vector Dimension : \", vector.ndim)\n",
    "print(\"Shape of vector tensor : \", vector.shape)\n"
   ]
  },
  {
   "cell_type": "code",
   "execution_count": null,
   "metadata": {
    "colab": {
     "base_uri": "https://localhost:8080/"
    },
    "executionInfo": {
     "elapsed": 2,
     "status": "ok",
     "timestamp": 1737480155474,
     "user": {
      "displayName": "nimoy",
      "userId": "12145814232676261569"
     },
     "user_tz": -330
    },
    "id": "ECuj0yuU1nKD",
    "outputId": "33916099-dc9e-4814-f4dc-b4354fab81d7"
   },
   "outputs": [
    {
     "name": "stdout",
     "output_type": "stream",
     "text": [
      "matrix tensor :  tensor([[1., 2.],\n",
      "        [3., 4.]])\n",
      "matrix Dimension :  2\n",
      "Shape of matrix tensor :  torch.Size([2, 2])\n"
     ]
    }
   ],
   "source": [
    "# 2D tensor : matrix\n",
    "matrix = torch.tensor([[1.,2.], [3.,4.]])\n",
    "print(\"matrix tensor : \", matrix)\n",
    "print(\"matrix Dimension : \", matrix.ndim)\n",
    "print(\"Shape of matrix tensor : \", matrix.shape)"
   ]
  },
  {
   "cell_type": "code",
   "execution_count": null,
   "metadata": {
    "colab": {
     "base_uri": "https://localhost:8080/"
    },
    "executionInfo": {
     "elapsed": 2,
     "status": "ok",
     "timestamp": 1737480032980,
     "user": {
      "displayName": "nimoy",
      "userId": "12145814232676261569"
     },
     "user_tz": -330
    },
    "id": "EKFrTIyA2TnF",
    "outputId": "3cef5033-6a89-4355-925a-7da6a1378b6a"
   },
   "outputs": [
    {
     "name": "stdout",
     "output_type": "stream",
     "text": [
      "tensor3d tensor :  tensor([[[1, 2],\n",
      "         [3, 4]],\n",
      "\n",
      "        [[1, 2],\n",
      "         [3, 4]]])\n",
      "tensor3d Dimension :  3\n",
      "Shape of tensor3d tensor :  torch.Size([2, 2, 2])\n"
     ]
    }
   ],
   "source": [
    "# 3D tensor : >=3 dim -- tensor\n",
    "tensor3d = torch.tensor([\n",
    "                      [[1,2], [3,4]],\n",
    "                      [[1,2], [3,4]]\n",
    "                      ])\n",
    "print(\"tensor3d tensor : \", tensor3d)\n",
    "print(\"tensor3d Dimension : \", tensor3d.ndim)\n",
    "print(\"Shape of tensor3d tensor : \", tensor3d.shape)"
   ]
  },
  {
   "cell_type": "code",
   "execution_count": 6,
   "metadata": {
    "colab": {
     "base_uri": "https://localhost:8080/"
    },
    "executionInfo": {
     "elapsed": 718,
     "status": "ok",
     "timestamp": 1737480040881,
     "user": {
      "displayName": "nimoy",
      "userId": "12145814232676261569"
     },
     "user_tz": -330
    },
    "id": "OlQyjpbL2jKV",
    "outputId": "c73fb937-5a1b-4f3e-8640-5d503cea1a8d"
   },
   "outputs": [
    {
     "name": "stdout",
     "output_type": "stream",
     "text": [
      "Tensor on GPU:  tensor([1, 2, 3], device='cuda:0')\n"
     ]
    }
   ],
   "source": [
    "# GPU acceleration\n",
    "\n",
    "if torch.cuda.is_available():\n",
    "  gpu_tensor = vector.to('cuda')\n",
    "  print(\"Tensor on GPU: \", gpu_tensor)\n",
    "else:\n",
    "  print(\"CUDA is not available on this machine.\")"
   ]
  },
  {
   "cell_type": "code",
   "execution_count": null,
   "metadata": {},
   "outputs": [],
   "source": [
    "# If we have multiple gpus(eg:3)\n",
    "# Tensor on GPU:  tensor([1, 2, 3], device=['cuda:0','cuda:1','cuda:2'])\n"
   ]
  },
  {
   "cell_type": "code",
   "execution_count": null,
   "metadata": {},
   "outputs": [],
   "source": [
    "# Wrapping some n dim tensors in another brackets give to some x old shape n+1 dimensional tensor"
   ]
  },
  {
   "cell_type": "code",
   "execution_count": 17,
   "metadata": {
    "colab": {
     "base_uri": "https://localhost:8080/"
    },
    "executionInfo": {
     "elapsed": 467,
     "status": "ok",
     "timestamp": 1737480403709,
     "user": {
      "displayName": "nimoy",
      "userId": "12145814232676261569"
     },
     "user_tz": -330
    },
    "id": "w4NrBCFq4LtJ",
    "outputId": "4b19ba5f-e530-4933-96a9-43d8ab92f544"
   },
   "outputs": [
    {
     "name": "stdout",
     "output_type": "stream",
     "text": [
      "Data type of matrix : torch.float32\n",
      "Device of Tensor :  cpu\n",
      "Device of Tensor :  cuda:0\n",
      "Is tensor on CUDA :  False\n",
      "Is tensor on CUDA :  True\n",
      "Size:  torch.Size([2, 2])\n",
      "Number of elements :  4\n"
     ]
    }
   ],
   "source": [
    "# Tensor properties\n",
    "\n",
    "print(\"Data type of matrix :\", matrix.dtype)\n",
    "\n",
    "print(\"Device of Tensor : \", matrix.device)\n",
    "print(\"Device of Tensor : \", gpu_tensor.device)\n",
    "\n",
    "print(\"Is tensor on CUDA : \", matrix.is_cuda)\n",
    "print(\"Is tensor on CUDA : \", gpu_tensor.is_cuda)\n",
    "\n",
    "print(\"Size: \", matrix.size())\n",
    "\n",
    "print(\"Number of elements : \", matrix.numel())"
   ]
  },
  {
   "cell_type": "code",
   "execution_count": 12,
   "metadata": {
    "colab": {
     "base_uri": "https://localhost:8080/"
    },
    "executionInfo": {
     "elapsed": 3,
     "status": "ok",
     "timestamp": 1737480237295,
     "user": {
      "displayName": "nimoy",
      "userId": "12145814232676261569"
     },
     "user_tz": -330
    },
    "id": "Q0vPp4J04r2T",
    "outputId": "40ba242e-6756-4aa8-d735-9a85de2e8d6e"
   },
   "outputs": [
    {
     "name": "stdout",
     "output_type": "stream",
     "text": [
      "Tue Jan 21 17:24:01 2025       \n",
      "+---------------------------------------------------------------------------------------+\n",
      "| NVIDIA-SMI 535.104.05             Driver Version: 535.104.05   CUDA Version: 12.2     |\n",
      "|-----------------------------------------+----------------------+----------------------+\n",
      "| GPU  Name                 Persistence-M | Bus-Id        Disp.A | Volatile Uncorr. ECC |\n",
      "| Fan  Temp   Perf          Pwr:Usage/Cap |         Memory-Usage | GPU-Util  Compute M. |\n",
      "|                                         |                      |               MIG M. |\n",
      "|=========================================+======================+======================|\n",
      "|   0  Tesla T4                       Off | 00000000:00:04.0 Off |                    0 |\n",
      "| N/A   63C    P0              30W /  70W |    105MiB / 15360MiB |      0%      Default |\n",
      "|                                         |                      |                  N/A |\n",
      "+-----------------------------------------+----------------------+----------------------+\n",
      "                                                                                         \n",
      "+---------------------------------------------------------------------------------------+\n",
      "| Processes:                                                                            |\n",
      "|  GPU   GI   CI        PID   Type   Process name                            GPU Memory |\n",
      "|        ID   ID                                                             Usage      |\n",
      "|=======================================================================================|\n",
      "+---------------------------------------------------------------------------------------+\n"
     ]
    }
   ],
   "source": [
    "!nvidia-smi"
   ]
  },
  {
   "cell_type": "code",
   "execution_count": null,
   "metadata": {
    "id": "H8jAc0eE5GvD"
   },
   "outputs": [],
   "source": []
  }
 ],
 "metadata": {
  "accelerator": "GPU",
  "colab": {
   "authorship_tag": "ABX9TyOUOoG01IALKZ5iQjS4pMr8",
   "gpuType": "T4",
   "provenance": []
  },
  "kernelspec": {
   "display_name": "Python 3",
   "name": "python3"
  },
  "language_info": {
   "name": "python"
  }
 },
 "nbformat": 4,
 "nbformat_minor": 0
}
