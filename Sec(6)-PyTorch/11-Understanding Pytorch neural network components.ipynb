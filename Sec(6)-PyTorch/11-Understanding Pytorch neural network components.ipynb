{
 "cells": [
  {
   "cell_type": "markdown",
   "metadata": {
    "id": "lBNsDS-5bfy5"
   },
   "source": [
    "# Understanding Pytorch neural network components\n",
    "![](https://drive.google.com/uc?id=1eE-Kdt8-MnkPHCCD74KBH0dMJUnubccg)"
   ]
  },
  {
   "cell_type": "code",
   "execution_count": 1,
   "metadata": {
    "colab": {
     "base_uri": "https://localhost:8080/",
     "height": 52
    },
    "executionInfo": {
     "elapsed": 415,
     "status": "ok",
     "timestamp": 1738765110060,
     "user": {
      "displayName": "nimoy",
      "userId": "12145814232676261569"
     },
     "user_tz": -330
    },
    "id": "7qpzR25CbXo9",
    "outputId": "dfda85a0-bf16-404b-f3bb-b36b88dccd3a"
   },
   "outputs": [
    {
     "data": {
      "application/vnd.google.colaboratory.intrinsic+json": {
       "type": "string"
      },
      "text/plain": [
       "\"\\n\\nBreakdown of a simple neural network\\n\\nX --> input\\nWx --> Weights\\nbx --> bias\\nA --> Activation function\\nY ---> Output\\n\\nZ = W1.X + b1\\nZ' = A(Z)\\nY = W2.Z' + b2\\n\\n# Loss function\\n# Backpropagation\\n# optimizer\\n\""
      ]
     },
     "execution_count": 1,
     "metadata": {},
     "output_type": "execute_result"
    }
   ],
   "source": [
    "'''\n",
    "\n",
    "Breakdown of a simple neural network\n",
    "\n",
    "X --> input\n",
    "Wx --> Weights\n",
    "bx --> bias\n",
    "A --> Activation function\n",
    "Y ---> Output\n",
    "\n",
    "Z = W1.X + b1\n",
    "Z' = A(Z)\n",
    "Y = W2.Z' + b2\n",
    "\n",
    "# Loss function\n",
    "# Backpropagation\n",
    "# optimizer\n",
    "'''"
   ]
  },
  {
   "cell_type": "markdown",
   "metadata": {
    "id": "79lwK7VbegXI"
   },
   "source": [
    "## Components of pytorch\n",
    "\n",
    "- Base class for defining customer models : torch.nn.Module\n",
    "- Fully connected (dense) layers : toch.nn.Linear\n",
    "- Activation fucntion : torch.nn.ReLU\n",
    "- Optimiser : torch.optim\n",
    "- Loss function : torch.nn.CrossEntropyLoss\n",
    "- Loads data in batch : torch.utils.data.DataLoader"
   ]
  },
  {
   "cell_type": "markdown",
   "metadata": {
    "id": "vTc3rhcifdbv"
   },
   "source": [
    "## Different ways to create neural network\n",
    "\n",
    "1. Function : Flexible, harder to interpret\n",
    "\n",
    "2. Sequential : nn.Sequential"
   ]
  },
  {
   "cell_type": "markdown",
   "metadata": {
    "id": "uq1TuDS6f1_-"
   },
   "source": [
    "# Building a neural network"
   ]
  },
  {
   "cell_type": "code",
   "execution_count": 2,
   "metadata": {
    "executionInfo": {
     "elapsed": 2,
     "status": "ok",
     "timestamp": 1738765519483,
     "user": {
      "displayName": "nimoy",
      "userId": "12145814232676261569"
     },
     "user_tz": -330
    },
    "id": "cTB8kiTqecVj"
   },
   "outputs": [],
   "source": [
    "import torch\n",
    "import torch.nn as nn\n",
    "import torch.optim as optim\n"
   ]
  },
  {
   "cell_type": "code",
   "execution_count": 11,
   "metadata": {
    "executionInfo": {
     "elapsed": 2,
     "status": "ok",
     "timestamp": 1738767574693,
     "user": {
      "displayName": "nimoy",
      "userId": "12145814232676261569"
     },
     "user_tz": -330
    },
    "id": "Pk9MmBasgEXG"
   },
   "outputs": [],
   "source": [
    "## Functional API\n",
    "\n",
    "class SimpleNN(nn.Module):\n",
    "\n",
    "  def __init__(self, input_size,hidden_size, output_size):\n",
    "    super(SimpleNN, self).__init__()\n",
    "\n",
    "    self.fc1 = nn.Linear(input_size, hidden_size)\n",
    "\n",
    "    self.relu = nn.ReLU()\n",
    "\n",
    "    self.fc2 = nn.Linear(hidden_size, output_size)\n",
    "\n",
    "  def forward(self, x):\n",
    "    x = self.fc1(x)\n",
    "    x = self.relu(x)\n",
    "    x = self.fc2(x)\n",
    "    return x\n"
   ]
  },
  {
   "cell_type": "code",
   "execution_count": 4,
   "metadata": {
    "executionInfo": {
     "elapsed": 408,
     "status": "ok",
     "timestamp": 1738766662452,
     "user": {
      "displayName": "nimoy",
      "userId": "12145814232676261569"
     },
     "user_tz": -330
    },
    "id": "KTa6-fVoi48c"
   },
   "outputs": [],
   "source": [
    "## Sequential\n",
    "\n",
    "class SimpleNNSequential(nn.Module):\n",
    "\n",
    "  def __init__(self, input_size,hidden_size, output_size):\n",
    "    super(SimpleNN, self).__init__()\n",
    "\n",
    "    self.network = nn.Sequential(\n",
    "        nn.Linear(input_size, hidden_size),\n",
    "        nn.ReLU(),\n",
    "        nn.Linear(hidden_size, output_size),\n",
    "    )\n",
    "\n",
    "  def forward(self, x):\n",
    "    return self.network(x)\n"
   ]
  },
  {
   "cell_type": "markdown",
   "metadata": {
    "id": "9VKxFg0pkgys"
   },
   "source": [
    "## Training the neural network"
   ]
  },
  {
   "cell_type": "code",
   "execution_count": 16,
   "metadata": {
    "colab": {
     "base_uri": "https://localhost:8080/"
    },
    "executionInfo": {
     "elapsed": 308,
     "status": "ok",
     "timestamp": 1738767629705,
     "user": {
      "displayName": "nimoy",
      "userId": "12145814232676261569"
     },
     "user_tz": -330
    },
    "id": "KxKhFUhxkjyz",
    "outputId": "5b9e87c9-969d-45cb-9cb6-59246ffb97c1"
   },
   "outputs": [
    {
     "name": "stdout",
     "output_type": "stream",
     "text": [
      "SimpleNN(\n",
      "  (fc1): Linear(in_features=4, out_features=8, bias=True)\n",
      "  (relu): ReLU()\n",
      "  (fc2): Linear(in_features=8, out_features=3, bias=True)\n",
      ")\n"
     ]
    }
   ],
   "source": [
    "model_func = SimpleNN(input_size=4, hidden_size=8, output_size=3)\n",
    "print(model_func)"
   ]
  },
  {
   "cell_type": "code",
   "execution_count": 17,
   "metadata": {
    "executionInfo": {
     "elapsed": 296,
     "status": "ok",
     "timestamp": 1738767631446,
     "user": {
      "displayName": "nimoy",
      "userId": "12145814232676261569"
     },
     "user_tz": -330
    },
    "id": "MjWl4Upwk14f"
   },
   "outputs": [],
   "source": [
    "X = torch.randn(10, 4) # 10 samples, 4 feature\n",
    "\n",
    "Y = torch.randint(0, 3, (10,))\n",
    "\n",
    "criterion = nn.CrossEntropyLoss()\n",
    "optimizer = optim.Adam(model_func.parameters(), lr=0.01)"
   ]
  },
  {
   "cell_type": "code",
   "execution_count": 7,
   "metadata": {
    "colab": {
     "base_uri": "https://localhost:8080/"
    },
    "executionInfo": {
     "elapsed": 573,
     "status": "ok",
     "timestamp": 1738767199387,
     "user": {
      "displayName": "nimoy",
      "userId": "12145814232676261569"
     },
     "user_tz": -330
    },
    "id": "Bda8BYmnmVbC",
    "outputId": "03d0fd0c-1538-4757-b585-29c9e8918057"
   },
   "outputs": [
    {
     "name": "stdout",
     "output_type": "stream",
     "text": [
      "tensor([[-0.1193,  0.9537, -0.9357,  0.4727],\n",
      "        [ 0.3522, -0.6864,  0.7349, -1.3355],\n",
      "        [-0.4078,  2.0608,  0.7937, -0.5543],\n",
      "        [-1.5405,  2.4308, -0.9619, -0.0399],\n",
      "        [-1.6642,  1.5739,  1.2758, -1.4481],\n",
      "        [-1.4015,  0.5300, -1.0670,  0.9451],\n",
      "        [ 0.6852,  1.7183, -2.1000,  0.1549],\n",
      "        [-0.2454, -1.9626, -0.3956, -1.6797],\n",
      "        [-0.2257, -0.3006,  0.0664,  0.0326],\n",
      "        [-0.0168, -1.2029, -0.3144,  0.3440]])\n"
     ]
    }
   ],
   "source": [
    "print(X)"
   ]
  },
  {
   "cell_type": "code",
   "execution_count": 8,
   "metadata": {
    "colab": {
     "base_uri": "https://localhost:8080/"
    },
    "executionInfo": {
     "elapsed": 327,
     "status": "ok",
     "timestamp": 1738767203651,
     "user": {
      "displayName": "nimoy",
      "userId": "12145814232676261569"
     },
     "user_tz": -330
    },
    "id": "PvkAavCbmefR",
    "outputId": "013f8089-e4c9-4201-80ec-2ba7fd7dba77"
   },
   "outputs": [
    {
     "name": "stdout",
     "output_type": "stream",
     "text": [
      "tensor([0, 0, 1, 1, 0, 0, 0, 2, 1, 2])\n"
     ]
    }
   ],
   "source": [
    "print(Y)"
   ]
  },
  {
   "cell_type": "code",
   "execution_count": null,
   "metadata": {
    "colab": {
     "base_uri": "https://localhost:8080/"
    },
    "executionInfo": {
     "elapsed": 317,
     "status": "ok",
     "timestamp": 1738767634826,
     "user": {
      "displayName": "nimoy",
      "userId": "12145814232676261569"
     },
     "user_tz": -330
    },
    "id": "tR5VsqeLmfkB",
    "outputId": "266d70bd-fa46-4caf-8d46-dec68284d026"
   },
   "outputs": [
    {
     "name": "stdout",
     "output_type": "stream",
     "text": [
      "Epoch [10]/50, Loss : 0.7351\n",
      "Epoch [20]/50, Loss : 0.5061\n",
      "Epoch [30]/50, Loss : 0.3673\n",
      "Epoch [40]/50, Loss : 0.2804\n",
      "Epoch [50]/50, Loss : 0.2183\n",
      "Epoch [60]/50, Loss : 0.1715\n",
      "Epoch [70]/50, Loss : 0.1332\n",
      "Epoch [80]/50, Loss : 0.1026\n",
      "Epoch [90]/50, Loss : 0.0783\n",
      "Epoch [100]/50, Loss : 0.0608\n",
      "Epoch [110]/50, Loss : 0.0480\n",
      "Epoch [120]/50, Loss : 0.0376\n"
     ]
    }
   ],
   "source": [
    "# training loop\n",
    "\n",
    "epoch = 120\n",
    "\n",
    "for e in range(epoch):\n",
    "  optimizer.zero_grad()\n",
    "  outputs = model_func(X)\n",
    "  loss = criterion(outputs, Y)\n",
    "  loss.backward()\n",
    "  optimizer.step()\n",
    "\n",
    "  if (e+1) % 10 == 0:\n",
    "    print(f\"Epoch [{e+1}]/120, Loss : {loss.item() :.4f}\")"
   ]
  },
  {
   "cell_type": "code",
   "execution_count": null,
   "metadata": {
    "id": "q8xmwE-GoEd0"
   },
   "outputs": [],
   "source": []
  }
 ],
 "metadata": {
  "colab": {
   "authorship_tag": "ABX9TyMS1Ptos9LEly9f/FP8FEi9",
   "provenance": []
  },
  "kernelspec": {
   "display_name": "Python 3",
   "name": "python3"
  },
  "language_info": {
   "name": "python"
  }
 },
 "nbformat": 4,
 "nbformat_minor": 0
}
