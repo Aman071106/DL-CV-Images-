{
 "cells": [
  {
   "cell_type": "markdown",
   "metadata": {
    "id": "Wz868OUYiPj2"
   },
   "source": [
    "# Segmentation Loss Functions\n",
    "![](https://drive.google.com/uc?id=1O2xtuqpPf2dAg-CpS6E83oR_6lTrlhD1)"
   ]
  },
  {
   "cell_type": "code",
   "execution_count": 1,
   "metadata": {
    "executionInfo": {
     "elapsed": 9876,
     "status": "ok",
     "timestamp": 1741900270201,
     "user": {
      "displayName": "nimoy",
      "userId": "12145814232676261569"
     },
     "user_tz": -330
    },
    "id": "lB_v2n2QiH3L"
   },
   "outputs": [],
   "source": [
    "import torch\n",
    "import torch.nn.functional as F"
   ]
  },
  {
   "cell_type": "code",
   "execution_count": 2,
   "metadata": {
    "executionInfo": {
     "elapsed": 1,
     "status": "ok",
     "timestamp": 1741900300084,
     "user": {
      "displayName": "nimoy",
      "userId": "12145814232676261569"
     },
     "user_tz": -330
    },
    "id": "_HlUsyEcVerG"
   },
   "outputs": [],
   "source": [
    "def dice_loss(pred, target, smooth=1e-6):\n",
    "  intersection = (pred*target).sum()\n",
    "  union = pred.sum() + target.sum()\n",
    "  return 1 - (2. * intersection + smooth) / (union + smooth)"
   ]
  },
  {
   "cell_type": "code",
   "execution_count": 3,
   "metadata": {
    "executionInfo": {
     "elapsed": 8,
     "status": "ok",
     "timestamp": 1741900300524,
     "user": {
      "displayName": "nimoy",
      "userId": "12145814232676261569"
     },
     "user_tz": -330
    },
    "id": "xaiW_V6r-te6"
   },
   "outputs": [],
   "source": [
    "# dummy tensor\n",
    "pred = torch.tensor([0.9, 0.1, 0.8, 0.3])\n",
    "target = torch.tensor([1.,0.,1.,0.])\n",
    "\n",
    "# Cross-Entropy loss\n",
    "ce_loss = F.binary_cross_entropy(pred, target)\n",
    "\n",
    "dice = dice_loss(pred, target)"
   ]
  },
  {
   "cell_type": "code",
   "execution_count": 6,
   "metadata": {},
   "outputs": [
    {
     "name": "stdout",
     "output_type": "stream",
     "text": [
      "tensor(0.1707)\n",
      "tensor(0.1976)\n"
     ]
    }
   ],
   "source": [
    "print(dice)\n",
    "print(ce_loss)"
   ]
  },
  {
   "cell_type": "code",
   "execution_count": 4,
   "metadata": {
    "executionInfo": {
     "elapsed": 10,
     "status": "ok",
     "timestamp": 1741900403649,
     "user": {
      "displayName": "nimoy",
      "userId": "12145814232676261569"
     },
     "user_tz": -330
    },
    "id": "mK69OOtdWGQu"
   },
   "outputs": [],
   "source": [
    "\n",
    "def segmentation_loss(ce_loss, dice_loss, weightage=1):\n",
    "  return ce_loss*weightage + dice_loss"
   ]
  },
  {
   "cell_type": "code",
   "execution_count": 5,
   "metadata": {
    "colab": {
     "base_uri": "https://localhost:8080/"
    },
    "executionInfo": {
     "elapsed": 27,
     "status": "ok",
     "timestamp": 1741900403987,
     "user": {
      "displayName": "nimoy",
      "userId": "12145814232676261569"
     },
     "user_tz": -330
    },
    "id": "Dd2lkQrfWFuq",
    "outputId": "e5b97f45-3b88-4e01-c4e1-00ce2aa3faa1"
   },
   "outputs": [
    {
     "name": "stdout",
     "output_type": "stream",
     "text": [
      "tensor(0.3684)\n"
     ]
    }
   ],
   "source": [
    "print(segmentation_loss(ce_loss, dice))"
   ]
  },
  {
   "cell_type": "code",
   "execution_count": null,
   "metadata": {
    "id": "b46bmPI5Wmi7"
   },
   "outputs": [],
   "source": []
  }
 ],
 "metadata": {
  "colab": {
   "authorship_tag": "ABX9TyP90E4I7ndAixG2vQbsxSF9",
   "provenance": []
  },
  "kernelspec": {
   "display_name": "TorchLearnEnv",
   "language": "python",
   "name": "python3"
  },
  "language_info": {
   "codemirror_mode": {
    "name": "ipython",
    "version": 3
   },
   "file_extension": ".py",
   "mimetype": "text/x-python",
   "name": "python",
   "nbconvert_exporter": "python",
   "pygments_lexer": "ipython3",
   "version": "3.13.5"
  }
 },
 "nbformat": 4,
 "nbformat_minor": 0
}
